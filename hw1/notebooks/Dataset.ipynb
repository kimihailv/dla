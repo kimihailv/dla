{
 "cells": [
  {
   "cell_type": "code",
   "execution_count": null,
   "id": "ed1d53f0",
   "metadata": {},
   "outputs": [],
   "source": [
    "%load_ext autoreload\n",
    "%autoreload 2\n",
    "import datasets\n",
    "import sys\n",
    "sys.path.insert(0, '..')\n",
    "from IPython.display import Audio\n",
    "from torch.utils.data import DataLoader\n",
    "from data.datasets import preprocess_dataset, BaseDataset, Collator\n",
    "from data.tokenizer import Tokenizer\n",
    "import data.augmentations as augs\n",
    "from torchaudio import transforms\n",
    "import matplotlib.pyplot as plt\n",
    "%matplotlib inline"
   ]
  },
  {
   "cell_type": "code",
   "execution_count": null,
   "id": "9e80c5fb",
   "metadata": {},
   "outputs": [],
   "source": [
    "!conda install -y -c conda-forge ipywidgets"
   ]
  },
  {
   "cell_type": "code",
   "execution_count": null,
   "id": "6c330121",
   "metadata": {},
   "outputs": [],
   "source": [
    "def replace_file(sample):\n",
    "    idx = sample['file'].split('/')[-1]\n",
    "    sample['file'] = f'../flac/{idx}'\n",
    "    return sample"
   ]
  },
  {
   "cell_type": "code",
   "execution_count": null,
   "id": "d547b483",
   "metadata": {},
   "outputs": [],
   "source": [
    "dataset = datasets.load_from_disk('librespeech-1k')\n",
    "tokenizer = Tokenizer(dataset, True)\n",
    "datasets.set_caching_enabled(False)\n",
    "dataset = dataset.map(replace_file)\n",
    "preprocessed = dataset.map(lambda b: preprocess_dataset(b, tokenizer),\n",
    "                                               batched=True, remove_columns=['chapter_id', 'file', 'speaker_id'],\n",
    "                                               num_proc=2)"
   ]
  },
  {
   "cell_type": "code",
   "execution_count": null,
   "id": "98fcb7d6",
   "metadata": {
    "pycharm": {
     "name": "#%%\n"
    }
   },
   "outputs": [],
   "source": [
    "wav_transform = augs.Compose(\n",
    "    augs.RandomApply(augs.AddNoise()),\n",
    "    augs.RandomApply(augs.PitchShift(sr=16000), p=0.3),\n",
    "    augs.RandomApply(augs.TimeStretch(), p=0.3)\n",
    ")\n",
    "\n",
    "mel_transform = augs.MelTransform(\n",
    "            sample_rate=16000,\n",
    "            n_fft=1024,\n",
    "            win_length=1024,\n",
    "            hop_length=256)\n",
    "\n",
    "collator = Collator(wav_transform, mel_transform)"
   ]
  },
  {
   "cell_type": "code",
   "execution_count": null,
   "id": "7582f1bd",
   "metadata": {
    "pycharm": {
     "name": "#%%\n"
    }
   },
   "outputs": [],
   "source": [
    "ds = BaseDataset(preprocessed)\n",
    "loader = DataLoader(ds, batch_size=10, collate_fn=collator, num_workers=3, pin_memory=True)"
   ]
  },
  {
   "cell_type": "code",
   "execution_count": null,
   "id": "840f3c50",
   "metadata": {
    "pycharm": {
     "name": "#%%\n"
    }
   },
   "outputs": [],
   "source": [
    "batch = next(iter(loader))"
   ]
  },
  {
   "cell_type": "code",
   "execution_count": null,
   "id": "cd014256",
   "metadata": {
    "pycharm": {
     "name": "#%%\n"
    }
   },
   "outputs": [],
   "source": [
    "batch.keys()"
   ]
  },
  {
   "cell_type": "code",
   "execution_count": null,
   "id": "6e7185cc",
   "metadata": {
    "pycharm": {
     "name": "#%%\n"
    }
   },
   "outputs": [],
   "source": [
    "batch['mels'].shape"
   ]
  },
  {
   "cell_type": "code",
   "execution_count": null,
   "id": "ea2a68a8",
   "metadata": {},
   "outputs": [],
   "source": [
    "batch['mel_len']"
   ]
  },
  {
   "cell_type": "code",
   "execution_count": null,
   "id": "cd35a5d6",
   "metadata": {},
   "outputs": [],
   "source": [
    "plt.figure(figsize=(20, 5))\n",
    "plt.xlabel('Time', size=20)\n",
    "plt.ylabel('Frequency (Hz)', size=20)\n",
    "plt.imshow(batch['mels'][4].clamp(1e-5).log())"
   ]
  },
  {
   "cell_type": "code",
   "execution_count": null,
   "id": "1857c5e2",
   "metadata": {},
   "outputs": [],
   "source": [
    "import librosa"
   ]
  },
  {
   "cell_type": "code",
   "execution_count": 12,
   "id": "cab425fb",
   "metadata": {},
   "outputs": [],
   "source": [
    "import wandb\n",
    "from utils.logging import Logger"
   ]
  },
  {
   "cell_type": "code",
   "execution_count": 13,
   "id": "6fff6080",
   "metadata": {},
   "outputs": [
    {
     "data": {
      "text/plain": [
       "True"
      ]
     },
     "execution_count": 13,
     "metadata": {},
     "output_type": "execute_result"
    }
   ],
   "source": [
    "wandb.login()"
   ]
  },
  {
   "cell_type": "code",
   "execution_count": 15,
   "id": "41ae9d6f",
   "metadata": {},
   "outputs": [
    {
     "name": "stdout",
     "output_type": "stream",
     "text": [
      "{'project': 'dla_hw1', 'config': {'lr': 0.01, 'try': 1}}\n"
     ]
    },
    {
     "data": {
      "text/html": [
       "\n",
       "                    Syncing run <strong><a href=\"https://wandb.ai/kimihailv/dla_hw1/runs/3g08lftr\" target=\"_blank\">daily-energy-1</a></strong> to <a href=\"https://wandb.ai/kimihailv/dla_hw1\" target=\"_blank\">Weights & Biases</a> (<a href=\"https://docs.wandb.com/integrations/jupyter.html\" target=\"_blank\">docs</a>).<br/>\n",
       "\n",
       "                "
      ],
      "text/plain": [
       "<IPython.core.display.HTML object>"
      ]
     },
     "metadata": {},
     "output_type": "display_data"
    }
   ],
   "source": [
    "logger = Logger(\n",
    "    project='dla_hw1',\n",
    "    config={\n",
    "        'lr': 0.01,\n",
    "        'try': 1\n",
    "    }\n",
    ")"
   ]
  },
  {
   "cell_type": "code",
   "execution_count": 16,
   "id": "520663f6",
   "metadata": {},
   "outputs": [],
   "source": [
    "logger.log({'acc': 1})"
   ]
  },
  {
   "cell_type": "code",
   "execution_count": 17,
   "id": "b722ce08",
   "metadata": {},
   "outputs": [],
   "source": [
    "logger.set_summary({'best_score': 0.8, 'med': 0.9})"
   ]
  },
  {
   "cell_type": "code",
   "execution_count": 19,
   "id": "ecd1c717",
   "metadata": {},
   "outputs": [],
   "source": [
    "import torch\n",
    "model = torch.nn.Linear(12, 13)"
   ]
  },
  {
   "cell_type": "code",
   "execution_count": 23,
   "id": "17e7fb7e",
   "metadata": {},
   "outputs": [],
   "source": [
    "logger.watch(models=model)"
   ]
  },
  {
   "cell_type": "code",
   "execution_count": 24,
   "id": "8ce5d0d7",
   "metadata": {},
   "outputs": [
    {
     "data": {
      "text/html": [
       "<br/>Waiting for W&B process to finish, PID 3330... <strong style=\"color:green\">(success).</strong>"
      ],
      "text/plain": [
       "<IPython.core.display.HTML object>"
      ]
     },
     "metadata": {},
     "output_type": "display_data"
    },
    {
     "data": {
      "application/vnd.jupyter.widget-view+json": {
       "model_id": "a2ce2bbb5a7049399971a17c8b55f6c9",
       "version_major": 2,
       "version_minor": 0
      },
      "text/plain": [
       "VBox(children=(Label(value=' 0.00MB of 0.00MB uploaded (0.00MB deduped)\\r'), FloatProgress(value=1.0, max=1.0)…"
      ]
     },
     "metadata": {},
     "output_type": "display_data"
    },
    {
     "data": {
      "text/html": [
       "<style>\n",
       "    table.wandb td:nth-child(1) { padding: 0 10px; text-align: right }\n",
       "    .wandb-row { display: flex; flex-direction: row; flex-wrap: wrap; width: 100% }\n",
       "    .wandb-col { display: flex; flex-direction: column; flex-basis: 100%; flex: 1; padding: 10px; }\n",
       "    </style>\n",
       "<div class=\"wandb-row\"><div class=\"wandb-col\">\n",
       "<h3>Run history:</h3><br/><table class=\"wandb\"><tr><td>acc</td><td>▁</td></tr></table><br/></div><div class=\"wandb-col\">\n",
       "<h3>Run summary:</h3><br/><table class=\"wandb\"><tr><td>acc</td><td>1</td></tr><tr><td>best_score</td><td>0.8</td></tr><tr><td>med</td><td>0.9</td></tr></table>\n",
       "</div></div>\n",
       "Synced 5 W&B file(s), 0 media file(s), 0 artifact file(s) and 0 other file(s)\n",
       "<br/>Synced <strong style=\"color:#cdcd00\">daily-energy-1</strong>: <a href=\"https://wandb.ai/kimihailv/dla_hw1/runs/3g08lftr\" target=\"_blank\">https://wandb.ai/kimihailv/dla_hw1/runs/3g08lftr</a><br/>\n",
       "Find logs at: <code>./wandb/run-20211012_141934-3g08lftr/logs</code><br/>\n"
      ],
      "text/plain": [
       "<IPython.core.display.HTML object>"
      ]
     },
     "metadata": {},
     "output_type": "display_data"
    }
   ],
   "source": [
    "logger.finish()"
   ]
  },
  {
   "cell_type": "code",
   "execution_count": 1,
   "id": "9c8e13c5",
   "metadata": {},
   "outputs": [],
   "source": [
    "import datasets"
   ]
  },
  {
   "cell_type": "code",
   "execution_count": null,
   "id": "91224c26",
   "metadata": {},
   "outputs": [],
   "source": [
    "dataset = datasets.load_dataset(\"librispeech_asr\", 'clean', split='train.360')"
   ]
  }
 ],
 "metadata": {
  "kernelspec": {
   "display_name": "Python 3 (ipykernel)",
   "language": "python",
   "name": "python3"
  },
  "language_info": {
   "codemirror_mode": {
    "name": "ipython",
    "version": 3
   },
   "file_extension": ".py",
   "mimetype": "text/x-python",
   "name": "python",
   "nbconvert_exporter": "python",
   "pygments_lexer": "ipython3",
   "version": "3.9.5"
  }
 },
 "nbformat": 4,
 "nbformat_minor": 5
}
