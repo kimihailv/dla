{
 "cells": [
  {
   "cell_type": "code",
   "execution_count": null,
   "id": "a8e483cb",
   "metadata": {},
   "outputs": [],
   "source": [
    "import h5py\n",
    "from torchaudio.datasets import LJSPEECH, LIBRISPEECH"
   ]
  },
  {
   "cell_type": "code",
   "execution_count": null,
   "id": "94e8be70",
   "metadata": {},
   "outputs": [],
   "source": [
    "dataset = LIBRISPEECH('../../datasets', download=True, url='train-clean-100')"
   ]
  },
  {
   "cell_type": "code",
   "execution_count": null,
   "id": "27d31754",
   "metadata": {},
   "outputs": [],
   "source": [
    "from tqdm.notebook import tqdm\n",
    "\n",
    "with h5py.File('../../datasets/librispeech-train-clean-100.h5', 'w') as f:\n",
    "    for idx, item in tqdm(enumerate(dataset), total=len(dataset)):\n",
    "        group = f.create_group(str(idx))\n",
    "        group.create_dataset('wav', data=item[0].numpy()[0], dtype='f4', compression='gzip')\n",
    "        str_ds = group.create_dataset('text', data=item[2], dtype=h5py.string_dtype())\n"
   ]
  },
  {
   "cell_type": "code",
   "execution_count": null,
   "id": "66502534",
   "metadata": {},
   "outputs": [],
   "source": [
    "with h5py.File('../../datasets/librispeech-train-clean-100.h5', 'r') as f:\n",
    "    with open('../../datasets/train_corpus.txt', 'w+') as out:\n",
    "        for k in tqdm(f.keys(), total=len(dataset)):\n",
    "            text = f[k]['text'].asstr()[()]\n",
    "            print(text, file=out)"
   ]
  },
  {
   "cell_type": "code",
   "execution_count": null,
   "id": "5d8b3d87",
   "metadata": {},
   "outputs": [],
   "source": [
    "import torch\n",
    "import math\n",
    "\n",
    "def CosineWithWarmup(\n",
    "        optimizer, num_warmup_steps, num_training_steps, num_cycles=0.5, last_epoch=-1\n",
    "):\n",
    "    def lr_lambda(current_step):\n",
    "        if current_step < num_warmup_steps:\n",
    "            return float(current_step) / float(max(1, num_warmup_steps))\n",
    "        progress = float(current_step - num_warmup_steps) / float(max(1, num_training_steps - num_warmup_steps))\n",
    "        return max(0.0, 0.5 * (1.0 + math.cos(math.pi * float(num_cycles) * 2.0 * progress)))\n",
    "\n",
    "    return torch.optim.lr_scheduler.LambdaLR(optimizer, lr_lambda, last_epoch)"
   ]
  },
  {
   "cell_type": "code",
   "execution_count": null,
   "id": "2ba9259f",
   "metadata": {},
   "outputs": [],
   "source": [
    "m = torch.nn.Linear(23, 23)\n",
    "opt = torch.optim.Adam(m.parameters(), lr=0.01)\n",
    "p = CosineWithWarmup(opt, 100, 300)"
   ]
  },
  {
   "cell_type": "code",
   "execution_count": null,
   "id": "544e3074",
   "metadata": {},
   "outputs": [],
   "source": [
    "lrs = []\n",
    "\n",
    "for i in range(300):\n",
    "    lrs.append(p.get_last_lr()[0])\n",
    "    p.step()"
   ]
  },
  {
   "cell_type": "code",
   "execution_count": null,
   "id": "a8aa2fdc",
   "metadata": {},
   "outputs": [],
   "source": [
    "import matplotlib.pyplot as plt\n",
    "%matplotlib inline"
   ]
  },
  {
   "cell_type": "code",
   "execution_count": 2,
   "id": "7b4ab177",
   "metadata": {},
   "outputs": [
    {
     "name": "stdout",
     "output_type": "stream",
     "text": [
      "Requirement already satisfied: youtokentome in /Users/mihailkim/miniforge3/lib/python3.9/site-packages (1.0.6)\r\n",
      "Requirement already satisfied: Click>=7.0 in /Users/mihailkim/miniforge3/lib/python3.9/site-packages (from youtokentome) (7.1.2)\r\n"
     ]
    }
   ],
   "source": [
    "!pip install youtokentome"
   ]
  },
  {
   "cell_type": "code",
   "execution_count": null,
   "id": "d4dd58e6",
   "metadata": {},
   "outputs": [],
   "source": [
    "!pip install cython"
   ]
  },
  {
   "cell_type": "code",
   "execution_count": 3,
   "id": "ffa0acc5",
   "metadata": {},
   "outputs": [
    {
     "ename": "ModuleNotFoundError",
     "evalue": "No module named 'youtokentome'",
     "output_type": "error",
     "traceback": [
      "\u001b[0;31m---------------------------------------------------------------------------\u001b[0m",
      "\u001b[0;31mModuleNotFoundError\u001b[0m                       Traceback (most recent call last)",
      "\u001b[0;32m/var/folders/5h/1g3_pmx53hq5sf4ktjb08w400000gn/T/ipykernel_62783/4101338573.py\u001b[0m in \u001b[0;36m<module>\u001b[0;34m\u001b[0m\n\u001b[0;32m----> 1\u001b[0;31m \u001b[0;32mimport\u001b[0m \u001b[0myoutokentome\u001b[0m \u001b[0;32mas\u001b[0m \u001b[0myttm\u001b[0m\u001b[0;34m\u001b[0m\u001b[0;34m\u001b[0m\u001b[0m\n\u001b[0m\u001b[1;32m      2\u001b[0m \u001b[0;34m\u001b[0m\u001b[0m\n\u001b[1;32m      3\u001b[0m yttm.BPE.train(data='../../datasets/train_corpus.txt', vocab_size=10000,\n\u001b[1;32m      4\u001b[0m                model='../../bpe_model', pad_id=0, unk_id=1, bos_id=2, eos_id=3)\n",
      "\u001b[0;31mModuleNotFoundError\u001b[0m: No module named 'youtokentome'"
     ]
    }
   ],
   "source": [
    "import youtokentome as yttm\n",
    "\n",
    "yttm.BPE.train(data='../../datasets/train_corpus.txt', vocab_size=10000,\n",
    "               model='../../bpe_model', pad_id=0, unk_id=1, bos_id=2, eos_id=3)"
   ]
  },
  {
   "cell_type": "code",
   "execution_count": null,
   "id": "9c55cc2e",
   "metadata": {},
   "outputs": [],
   "source": []
  }
 ],
 "metadata": {
  "kernelspec": {
   "display_name": "dla",
   "language": "python",
   "name": "dla"
  },
  "language_info": {
   "codemirror_mode": {
    "name": "ipython",
    "version": 3
   },
   "file_extension": ".py",
   "mimetype": "text/x-python",
   "name": "python",
   "nbconvert_exporter": "python",
   "pygments_lexer": "ipython3",
   "version": "3.9.6"
  }
 },
 "nbformat": 4,
 "nbformat_minor": 5
}
