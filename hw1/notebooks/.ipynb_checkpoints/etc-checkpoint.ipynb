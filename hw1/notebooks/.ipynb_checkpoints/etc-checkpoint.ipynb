{
 "cells": [
  {
   "cell_type": "code",
   "execution_count": 1,
   "id": "a8e483cb",
   "metadata": {},
   "outputs": [],
   "source": [
    "import h5py\n",
    "from torchaudio.datasets import LJSPEECH, LIBRISPEECH"
   ]
  },
  {
   "cell_type": "code",
   "execution_count": 2,
   "id": "94e8be70",
   "metadata": {},
   "outputs": [],
   "source": [
    "dataset = LJSPEECH('../../datasets', download=True)"
   ]
  },
  {
   "cell_type": "code",
   "execution_count": null,
   "id": "27d31754",
   "metadata": {},
   "outputs": [
    {
     "data": {
      "application/vnd.jupyter.widget-view+json": {
       "model_id": "5986aea5b5aa459da02878f93cc08a65",
       "version_major": 2,
       "version_minor": 0
      },
      "text/plain": [
       "HBox(children=(FloatProgress(value=0.0, max=13100.0), HTML(value='')))"
      ]
     },
     "metadata": {},
     "output_type": "display_data"
    }
   ],
   "source": [
    "from tqdm.notebook import tqdm\n",
    "\n",
    "with h5py.File('../../datasets/lj.h5', 'w') as f:\n",
    "    for idx, item in tqdm(enumerate(dataset), total=len(dataset)):\n",
    "        group = f.create_group(str(idx))\n",
    "        group.create_dataset('wav', data=item[0].numpy()[0], dtype='f4', compression='gzip')\n",
    "        group.create_dataset('text', data=item[3], dtype=h5py.string_dtype())"
   ]
  },
  {
   "cell_type": "code",
   "execution_count": null,
   "id": "66502534",
   "metadata": {},
   "outputs": [],
   "source": [
    "f = h5py.File('../../datasets/lj_comp9.h5', 'r')"
   ]
  },
  {
   "cell_type": "code",
   "execution_count": null,
   "id": "bee68da2",
   "metadata": {},
   "outputs": [],
   "source": [
    "f['1']['text']"
   ]
  },
  {
   "cell_type": "code",
   "execution_count": null,
   "id": "5d8b3d87",
   "metadata": {},
   "outputs": [],
   "source": []
  }
 ],
 "metadata": {
  "kernelspec": {
   "display_name": "dla",
   "language": "python",
   "name": "dla"
  },
  "language_info": {
   "codemirror_mode": {
    "name": "ipython",
    "version": 3
   },
   "file_extension": ".py",
   "mimetype": "text/x-python",
   "name": "python",
   "nbconvert_exporter": "python",
   "pygments_lexer": "ipython3",
   "version": "3.9.6"
  }
 },
 "nbformat": 4,
 "nbformat_minor": 5
}
