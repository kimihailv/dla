{
 "cells": [
  {
   "cell_type": "code",
   "execution_count": 1,
   "id": "a8e483cb",
   "metadata": {},
   "outputs": [],
   "source": [
    "import h5py\n",
    "from torchaudio.datasets import LJSPEECH, LIBRISPEECH"
   ]
  },
  {
   "cell_type": "code",
   "execution_count": null,
   "id": "94e8be70",
   "metadata": {},
   "outputs": [
    {
     "data": {
      "application/vnd.jupyter.widget-view+json": {
       "model_id": "c39a34509f3f4efd80dcd90299603539",
       "version_major": 2,
       "version_minor": 0
      },
      "text/plain": [
       "HBox(children=(FloatProgress(value=0.0, max=6387309499.0), HTML(value='')))"
      ]
     },
     "metadata": {},
     "output_type": "display_data"
    }
   ],
   "source": [
    "dataset = LIBRISPEECH('../../datasets', download=True, url='train-clean-100')"
   ]
  },
  {
   "cell_type": "code",
   "execution_count": 3,
   "id": "27d31754",
   "metadata": {},
   "outputs": [
    {
     "data": {
      "application/vnd.jupyter.widget-view+json": {
       "model_id": "403530509d074490919016c2787f766b",
       "version_major": 2,
       "version_minor": 0
      },
      "text/plain": [
       "HBox(children=(FloatProgress(value=0.0, max=13100.0), HTML(value='')))"
      ]
     },
     "metadata": {},
     "output_type": "display_data"
    },
    {
     "name": "stdout",
     "output_type": "stream",
     "text": [
      "\n"
     ]
    }
   ],
   "source": [
    "from tqdm.notebook import tqdm\n",
    "\n",
    "with h5py.File('../../datasets/lj.h5', 'w') as f:\n",
    "    for idx, item in tqdm(enumerate(dataset), total=len(dataset)):\n",
    "        group = f.create_group(str(idx))\n",
    "        group.create_dataset('wav', data=item[0].numpy()[0], dtype='f4', compression='gzip')\n",
    "        str_ds = group.create_dataset('text', data=item[3], dtype=h5py.string_dtype())\n"
   ]
  },
  {
   "cell_type": "code",
   "execution_count": null,
   "id": "66502534",
   "metadata": {},
   "outputs": [],
   "source": [
    "f = h5py.File('../../datasets/lj.h5', 'r')"
   ]
  },
  {
   "cell_type": "code",
   "execution_count": null,
   "id": "bee68da2",
   "metadata": {},
   "outputs": [],
   "source": [
    "f['1']['text'].asstr()[()]"
   ]
  },
  {
   "cell_type": "code",
   "execution_count": 2,
   "id": "5d8b3d87",
   "metadata": {},
   "outputs": [],
   "source": [
    "import torch\n",
    "import math\n",
    "\n",
    "def CosineWithWarmup(\n",
    "        optimizer, num_warmup_steps, num_training_steps, num_cycles=0.5, last_epoch=-1\n",
    "):\n",
    "    def lr_lambda(current_step):\n",
    "        if current_step < num_warmup_steps:\n",
    "            return float(current_step) / float(max(1, num_warmup_steps))\n",
    "        progress = float(current_step - num_warmup_steps) / float(max(1, num_training_steps - num_warmup_steps))\n",
    "        return max(0.0, 0.5 * (1.0 + math.cos(math.pi * float(num_cycles) * 2.0 * progress)))\n",
    "\n",
    "    return torch.optim.lr_scheduler.LambdaLR(optimizer, lr_lambda, last_epoch)"
   ]
  },
  {
   "cell_type": "code",
   "execution_count": 9,
   "id": "2ba9259f",
   "metadata": {},
   "outputs": [],
   "source": [
    "m = torch.nn.Linear(23, 23)\n",
    "opt = torch.optim.Adam(m.parameters(), lr=0.01)\n",
    "p = CosineWithWarmup(opt, 100, 300)"
   ]
  },
  {
   "cell_type": "code",
   "execution_count": 10,
   "id": "544e3074",
   "metadata": {},
   "outputs": [
    {
     "name": "stderr",
     "output_type": "stream",
     "text": [
      "/Users/mihailkim/miniforge3/envs/dla/lib/python3.9/site-packages/torch/optim/lr_scheduler.py:129: UserWarning: Detected call of `lr_scheduler.step()` before `optimizer.step()`. In PyTorch 1.1.0 and later, you should call them in the opposite order: `optimizer.step()` before `lr_scheduler.step()`.  Failure to do this will result in PyTorch skipping the first value of the learning rate schedule. See more details at https://pytorch.org/docs/stable/optim.html#how-to-adjust-learning-rate\n",
      "  warnings.warn(\"Detected call of `lr_scheduler.step()` before `optimizer.step()`. \"\n"
     ]
    }
   ],
   "source": [
    "lrs = []\n",
    "\n",
    "for i in range(300):\n",
    "    lrs.append(p.get_last_lr()[0])\n",
    "    p.step()"
   ]
  },
  {
   "cell_type": "code",
   "execution_count": 11,
   "id": "a8aa2fdc",
   "metadata": {},
   "outputs": [],
   "source": [
    "import matplotlib.pyplot as plt\n",
    "%matplotlib inline"
   ]
  },
  {
   "cell_type": "code",
   "execution_count": 13,
   "id": "7b4ab177",
   "metadata": {},
   "outputs": [
    {
     "data": {
      "text/plain": [
       "[<matplotlib.lines.Line2D at 0x1397c0a30>]"
      ]
     },
     "execution_count": 13,
     "metadata": {},
     "output_type": "execute_result"
    },
    {
     "data": {
      "image/png": "[encoded data removed]",
      "text/plain": [
       "<Figure size 432x288 with 1 Axes>"
      ]
     },
     "metadata": {
      "needs_background": "light"
     },
     "output_type": "display_data"
    }
   ],
   "source": [
    "plt.plot(range(300), lrs)"
   ]
  },
  {
   "cell_type": "code",
   "execution_count": null,
   "id": "d4dd58e6",
   "metadata": {},
   "outputs": [],
   "source": []
  }
 ],
 "metadata": {
  "kernelspec": {
   "display_name": "dla",
   "language": "python",
   "name": "dla"
  },
  "language_info": {
   "codemirror_mode": {
    "name": "ipython",
    "version": 3
   },
   "file_extension": ".py",
   "mimetype": "text/x-python",
   "name": "python",
   "nbconvert_exporter": "python",
   "pygments_lexer": "ipython3",
   "version": "3.9.6"
  }
 },
 "nbformat": 4,
 "nbformat_minor": 5
}
