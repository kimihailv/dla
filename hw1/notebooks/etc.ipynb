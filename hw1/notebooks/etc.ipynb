{
 "cells": [
  {
   "cell_type": "code",
   "execution_count": 2,
   "id": "a8e483cb",
   "metadata": {},
   "outputs": [],
   "source": [
    "import h5py\n",
    "from torchaudio.datasets import LJSPEECH, LIBRISPEECH"
   ]
  },
  {
   "cell_type": "code",
   "execution_count": 3,
   "id": "94e8be70",
   "metadata": {},
   "outputs": [
    {
     "data": {
      "application/vnd.jupyter.widget-view+json": {
       "model_id": "bcd9cfdac09b4a78b88160da6274e613",
       "version_major": 2,
       "version_minor": 0
      },
      "text/plain": [
       "HBox(children=(FloatProgress(value=0.0, max=328757843.0), HTML(value='')))"
      ]
     },
     "metadata": {},
     "output_type": "display_data"
    },
    {
     "name": "stdout",
     "output_type": "stream",
     "text": [
      "\n"
     ]
    }
   ],
   "source": [
    "dataset = LIBRISPEECH('../../datasets', download=True, url='test-other')"
   ]
  },
  {
   "cell_type": "code",
   "execution_count": 4,
   "id": "27d31754",
   "metadata": {},
   "outputs": [
    {
     "data": {
      "application/vnd.jupyter.widget-view+json": {
       "model_id": "0c629fe0d80c4e059f484a8203b687fd",
       "version_major": 2,
       "version_minor": 0
      },
      "text/plain": [
       "HBox(children=(FloatProgress(value=0.0, max=2939.0), HTML(value='')))"
      ]
     },
     "metadata": {},
     "output_type": "display_data"
    },
    {
     "name": "stdout",
     "output_type": "stream",
     "text": [
      "\n"
     ]
    }
   ],
   "source": [
    "from tqdm.notebook import tqdm\n",
    "\n",
    "with h5py.File('../../datasets/librispeech.h5', 'a') as f:\n",
    "    for split in ['test-other']:\n",
    "        dataset = LIBRISPEECH('../../datasets', download=True, url=split)\n",
    "        split_group = f.create_group(split)\n",
    "        \n",
    "        for idx, item in tqdm(enumerate(dataset), total=len(dataset)):\n",
    "            group = split_group.create_group(str(idx))\n",
    "            group.create_dataset('wav', data=item[0].numpy()[0], dtype='f4', compression='gzip')\n",
    "            str_ds = group.create_dataset('text', data=item[2], dtype=h5py.string_dtype())\n"
   ]
  },
  {
   "cell_type": "code",
   "execution_count": null,
   "id": "8c5013a8",
   "metadata": {},
   "outputs": [],
   "source": [
    "with h5py.File('../../datasets/librispeech.h5', 'a') as f:\n",
    "    split_group = f.create_group('train-clean-100')\n",
    "    \n",
    "    with h5py.File('../../datasets/librispeech-train-clean-100.h5', 'r') as train:\n",
    "        for k in train.keys():\n",
    "            group = split_group.create_group(k)\n",
    "            group.create_dataset('wav', data=train[k]['wav'][:], dtype='f4', compression='gzip')\n",
    "            str_ds = group.create_dataset('text', data=train[k]['text'].asstr()[()],\n",
    "                                          dtype=h5py.string_dtype())"
   ]
  },
  {
   "cell_type": "code",
   "execution_count": 3,
   "id": "e447b63c",
   "metadata": {},
   "outputs": [],
   "source": [
    "f = h5py.File('../../datasets/librispeech.h5', 'r')"
   ]
  },
  {
   "cell_type": "code",
   "execution_count": 12,
   "id": "e4402332",
   "metadata": {},
   "outputs": [
    {
     "data": {
      "text/plain": [
       "(array([-0.00585938, -0.00445557, -0.00671387, ...,  0.00067139,\n",
       "         0.00341797,  0.00466919], dtype=float32),)"
      ]
     },
     "execution_count": 12,
     "metadata": {},
     "output_type": "execute_result"
    }
   ],
   "source": [
    "f['train-clean-100']['1']['wav'][:],\n",
    "#f['train-clean-100']['1']['text'].asstr()[()]"
   ]
  },
  {
   "cell_type": "code",
   "execution_count": 20,
   "id": "6cc79af2",
   "metadata": {},
   "outputs": [
    {
     "data": {
      "application/vnd.jupyter.widget-view+json": {
       "model_id": "0796683be94a4e9cabeb9af8855bc17d",
       "version_major": 2,
       "version_minor": 0
      },
      "text/plain": [
       "HBox(children=(FloatProgress(value=0.0, max=28539.0), HTML(value='')))"
      ]
     },
     "metadata": {},
     "output_type": "display_data"
    },
    {
     "name": "stdout",
     "output_type": "stream",
     "text": [
      "\n"
     ]
    }
   ],
   "source": [
    "import numpy as np\n",
    "lens = []\n",
    "target_lens = []\n",
    "keys = list(f.keys())\n",
    "for k in tqdm(keys):\n",
    "    lens.append(len(f[k]['wav'][:]) / 16000)\n",
    "    target_lens.append(len(f[k]['text'].asstr()[()]))"
   ]
  },
  {
   "cell_type": "code",
   "execution_count": 39,
   "id": "fd4455df",
   "metadata": {},
   "outputs": [],
   "source": [
    "lens = np.array(lens)\n",
    "target_lens = np.array(target_lens)"
   ]
  },
  {
   "cell_type": "code",
   "execution_count": 41,
   "id": "5cc90abc",
   "metadata": {},
   "outputs": [
    {
     "data": {
      "text/plain": [
       "array([1.525, 2.16 , 2.22 , 2.105])"
      ]
     },
     "execution_count": 41,
     "metadata": {},
     "output_type": "execute_result"
    }
   ],
   "source": [
    "lens[10 > target_lens]"
   ]
  },
  {
   "cell_type": "code",
   "execution_count": 28,
   "id": "8198e28d",
   "metadata": {},
   "outputs": [
    {
     "data": {
      "text/plain": [
       "(array([1.0580e+03, 1.5210e+03, 1.5160e+03, 1.8530e+03, 4.1720e+03,\n",
       "        1.2068e+04, 6.3460e+03, 3.0000e+00, 1.0000e+00, 1.0000e+00]),\n",
       " array([ 1.41  ,  3.7215,  6.033 ,  8.3445, 10.656 , 12.9675, 15.279 ,\n",
       "        17.5905, 19.902 , 22.2135, 24.525 ]),\n",
       " <BarContainer object of 10 artists>)"
      ]
     },
     "execution_count": 28,
     "metadata": {},
     "output_type": "execute_result"
    },
    {
     "data": {
      "image/png": "[encoded data removed]",
      "text/plain": [
       "<Figure size 432x288 with 1 Axes>"
      ]
     },
     "metadata": {
      "needs_background": "light"
     },
     "output_type": "display_data"
    }
   ],
   "source": [
    "import matplotlib.pyplot as plt\n",
    "\n",
    "plt.hist(lens)"
   ]
  },
  {
   "cell_type": "code",
   "execution_count": null,
   "id": "66502534",
   "metadata": {},
   "outputs": [],
   "source": [
    "with h5py.File('../../datasets/librispeech-train-clean-100.h5', 'r') as f:\n",
    "    with open('../../datasets/train_corpus.txt', 'w+') as out:\n",
    "        for k in tqdm(f.keys(), total=len(dataset)):\n",
    "            text = f[k]['text'].asstr()[()]\n",
    "            print(text, file=out)"
   ]
  },
  {
   "cell_type": "code",
   "execution_count": 1,
   "id": "5d8b3d87",
   "metadata": {},
   "outputs": [],
   "source": [
    "import torch\n",
    "import math\n",
    "\n",
    "def CosineWithWarmup(\n",
    "        optimizer, num_warmup_steps, num_training_steps, num_cycles=0.5, last_epoch=-1\n",
    "):\n",
    "    def lr_lambda(current_step):\n",
    "        if current_step < num_warmup_steps:\n",
    "            return float(current_step) / float(max(1, num_warmup_steps))\n",
    "        progress = float(current_step - num_warmup_steps) / float(max(1, num_training_steps - num_warmup_steps))\n",
    "        return max(0.0, 0.5 * (1.0 + math.cos(math.pi * float(num_cycles) * 2.0 * progress)))\n",
    "\n",
    "    return torch.optim.lr_scheduler.LambdaLR(optimizer, lr_lambda, last_epoch)"
   ]
  },
  {
   "cell_type": "code",
   "execution_count": 2,
   "id": "2ba9259f",
   "metadata": {},
   "outputs": [],
   "source": [
    "m = torch.nn.Linear(23, 23)\n",
    "opt = torch.optim.Adam(m.parameters(), lr=0.03)\n",
    "p = CosineWithWarmup(opt, 100, 300)"
   ]
  },
  {
   "cell_type": "code",
   "execution_count": 3,
   "id": "544e3074",
   "metadata": {},
   "outputs": [
    {
     "name": "stderr",
     "output_type": "stream",
     "text": [
      "/Users/mihailkim/miniforge3/envs/dla/lib/python3.9/site-packages/torch/optim/lr_scheduler.py:129: UserWarning: Detected call of `lr_scheduler.step()` before `optimizer.step()`. In PyTorch 1.1.0 and later, you should call them in the opposite order: `optimizer.step()` before `lr_scheduler.step()`.  Failure to do this will result in PyTorch skipping the first value of the learning rate schedule. See more details at https://pytorch.org/docs/stable/optim.html#how-to-adjust-learning-rate\n",
      "  warnings.warn(\"Detected call of `lr_scheduler.step()` before `optimizer.step()`. \"\n"
     ]
    }
   ],
   "source": [
    "lrs = []\n",
    "\n",
    "for i in range(300):\n",
    "    lrs.append(p.get_last_lr()[0])\n",
    "    p.step()"
   ]
  },
  {
   "cell_type": "code",
   "execution_count": 4,
   "id": "a8aa2fdc",
   "metadata": {},
   "outputs": [],
   "source": [
    "import matplotlib.pyplot as plt\n",
    "%matplotlib inline"
   ]
  },
  {
   "cell_type": "code",
   "execution_count": 6,
   "id": "0507d001",
   "metadata": {},
   "outputs": [
    {
     "data": {
      "text/plain": [
       "[<matplotlib.lines.Line2D at 0x13e5a3190>]"
      ]
     },
     "execution_count": 6,
     "metadata": {},
     "output_type": "execute_result"
    },
    {
     "data": {
      "image/png": "[encoded data removed]",
      "text/plain": [
       "<Figure size 432x288 with 1 Axes>"
      ]
     },
     "metadata": {
      "needs_background": "light"
     },
     "output_type": "display_data"
    }
   ],
   "source": [
    "plt.plot(range(300), lrs)"
   ]
  },
  {
   "cell_type": "code",
   "execution_count": 5,
   "id": "7b4ab177",
   "metadata": {},
   "outputs": [
    {
     "name": "stdout",
     "output_type": "stream",
     "text": [
      "Requirement already satisfied: youtokentome in /Users/mihailkim/miniforge3/lib/python3.9/site-packages (1.0.6)\n",
      "Requirement already satisfied: Click>=7.0 in /Users/mihailkim/miniforge3/lib/python3.9/site-packages (from youtokentome) (7.1.2)\n"
     ]
    }
   ],
   "source": [
    "!pip install youtokentome"
   ]
  },
  {
   "cell_type": "code",
   "execution_count": null,
   "id": "d4dd58e6",
   "metadata": {},
   "outputs": [],
   "source": [
    "!pip install cython"
   ]
  },
  {
   "cell_type": "code",
   "execution_count": null,
   "id": "ffa0acc5",
   "metadata": {},
   "outputs": [],
   "source": [
    "import youtokentome as yttm\n",
    "\n",
    "yttm.BPE.train(data='../../datasets/train_corpus.txt', vocab_size=10000,\n",
    "               model='../../bpe_model', pad_id=0, unk_id=1, bos_id=2, eos_id=3)"
   ]
  },
  {
   "cell_type": "code",
   "execution_count": null,
   "id": "9c55cc2e",
   "metadata": {},
   "outputs": [],
   "source": [
    "model = yttm.BPE(model='../../bpe_model')"
   ]
  },
  {
   "cell_type": "code",
   "execution_count": null,
   "id": "dfb73c06",
   "metadata": {},
   "outputs": [],
   "source": [
    "model.vocab()"
   ]
  },
  {
   "cell_type": "code",
   "execution_count": 14,
   "id": "65d4115c",
   "metadata": {},
   "outputs": [],
   "source": [
    "import youtokentome as yttm"
   ]
  },
  {
   "cell_type": "code",
   "execution_count": 16,
   "id": "e7be4821",
   "metadata": {},
   "outputs": [
    {
     "name": "stderr",
     "output_type": "stream",
     "text": [
      "Training parameters\n",
      "  input: ../../datasets/train_corpus.txt\n",
      "  model: ../../bpe_model__\n",
      "  vocab_size: 32\n",
      "  n_threads: 8\n",
      "  character_coverage: 1\n",
      "  pad: 0\n",
      "  unk: 1\n",
      "  bos: 2\n",
      "  eos: 3\n",
      "\n",
      "reading file...\n",
      "learning bpe...\n",
      "number of unique characters in the training data: 27\n",
      "number of deleted characters: 0\n",
      "number of unique characters left: 27\n",
      "model saved to: ../../bpe_model__\n"
     ]
    },
    {
     "data": {
      "text/plain": [
       "<youtokentome.youtokentome.BPE at 0x107e49190>"
      ]
     },
     "execution_count": 16,
     "metadata": {},
     "output_type": "execute_result"
    }
   ],
   "source": [
    "yttm.BPE.train(data='../../datasets/train_corpus.txt', vocab_size=32,\n",
    "               model='../../bpe_model__', pad_id=0, unk_id=1, bos_id=2, eos_id=3)"
   ]
  },
  {
   "cell_type": "code",
   "execution_count": 17,
   "id": "ff49ae60",
   "metadata": {},
   "outputs": [],
   "source": [
    "model = yttm.BPE(model='../../bpe_model__')"
   ]
  },
  {
   "cell_type": "code",
   "execution_count": 21,
   "id": "17bad1b4",
   "metadata": {},
   "outputs": [
    {
     "data": {
      "text/plain": [
       "[\"'\",\n",
       " '<BOS>',\n",
       " '<EOS>',\n",
       " '<PAD>',\n",
       " '<UNK>',\n",
       " 'A',\n",
       " 'B',\n",
       " 'C',\n",
       " 'D',\n",
       " 'E',\n",
       " 'F',\n",
       " 'G',\n",
       " 'H',\n",
       " 'I',\n",
       " 'J',\n",
       " 'K',\n",
       " 'L',\n",
       " 'M',\n",
       " 'N',\n",
       " 'O',\n",
       " 'P',\n",
       " 'Q',\n",
       " 'R',\n",
       " 'S',\n",
       " 'T',\n",
       " 'U',\n",
       " 'V',\n",
       " 'W',\n",
       " 'X',\n",
       " 'Y',\n",
       " 'Z',\n",
       " '▁']"
      ]
     },
     "execution_count": 21,
     "metadata": {},
     "output_type": "execute_result"
    }
   ],
   "source": [
    "sorted(model.vocab())"
   ]
  },
  {
   "cell_type": "code",
   "execution_count": null,
   "id": "7bc9a2b0",
   "metadata": {},
   "outputs": [],
   "source": []
  }
 ],
 "metadata": {
  "kernelspec": {
   "display_name": "dla",
   "language": "python",
   "name": "dla"
  },
  "language_info": {
   "codemirror_mode": {
    "name": "ipython",
    "version": 3
   },
   "file_extension": ".py",
   "mimetype": "text/x-python",
   "name": "python",
   "nbconvert_exporter": "python",
   "pygments_lexer": "ipython3",
   "version": "3.9.6"
  }
 },
 "nbformat": 4,
 "nbformat_minor": 5
}
