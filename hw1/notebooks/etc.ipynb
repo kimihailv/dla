{
 "cells": [
  {
   "cell_type": "code",
   "execution_count": 1,
   "id": "a8e483cb",
   "metadata": {},
   "outputs": [],
   "source": [
    "import h5py\n",
    "from torchaudio.datasets import LJSPEECH, LIBRISPEECH"
   ]
  },
  {
   "cell_type": "code",
   "execution_count": 2,
   "id": "1906215d",
   "metadata": {},
   "outputs": [],
   "source": [
    "import re\n",
    "from unidecode import unidecode\n",
    "\n",
    "_abbreviations = [(re.compile('\\\\b%s\\\\.' % x[0], re.IGNORECASE), x[1]) for x in [\n",
    "    ('mrs', 'misess'),\n",
    "    ('mr', 'mister'),\n",
    "    ('dr', 'doctor'),\n",
    "    ('st', 'saint'),\n",
    "    ('co', 'company'),\n",
    "    ('jr', 'junior'),\n",
    "    ('maj', 'major'),\n",
    "    ('gen', 'general'),\n",
    "    ('drs', 'doctors'),\n",
    "    ('rev', 'reverend'),\n",
    "    ('lt', 'lieutenant'),\n",
    "    ('hon', 'honorable'),\n",
    "    ('sgt', 'sergeant'),\n",
    "    ('capt', 'captain'),\n",
    "    ('esq', 'esquire'),\n",
    "    ('ltd', 'limited'),\n",
    "    ('col', 'colonel'),\n",
    "    ('ft', 'fort'),\n",
    "]]\n",
    "\n",
    "_whitespace_re = re.compile(r'\\s+')\n",
    "\n",
    "def expand_abbreviations(text):\n",
    "    for regex, replacement in _abbreviations:\n",
    "        text = re.sub(regex, replacement, text)\n",
    "    return text"
   ]
  },
  {
   "cell_type": "code",
   "execution_count": 3,
   "id": "77b83221",
   "metadata": {},
   "outputs": [],
   "source": [
    "def clean_text(transcript):\n",
    "    transcript = unidecode(transcript).lower()\n",
    "    transcript = re.sub(_whitespace_re, ' ', transcript)\n",
    "        \n",
    "    return expand_abbreviations(transcript)"
   ]
  },
  {
   "cell_type": "code",
   "execution_count": 4,
   "id": "94e8be70",
   "metadata": {},
   "outputs": [],
   "source": [
    "import torch\n",
    "\n",
    "dataset = LJSPEECH('../../datasets', download=True)\n",
    "align = torch.load('../../datasets/alignment.pt')"
   ]
  },
  {
   "cell_type": "code",
   "execution_count": 5,
   "id": "27d31754",
   "metadata": {},
   "outputs": [
    {
     "data": {
      "application/vnd.jupyter.widget-view+json": {
       "model_id": "feb29c0b5eb54af39e2482309f02e8b2",
       "version_major": 2,
       "version_minor": 0
      },
      "text/plain": [
       "HBox(children=(FloatProgress(value=0.0, max=13100.0), HTML(value='')))"
      ]
     },
     "metadata": {},
     "output_type": "display_data"
    },
    {
     "name": "stdout",
     "output_type": "stream",
     "text": [
      "\n"
     ]
    }
   ],
   "source": [
    "from tqdm.notebook import tqdm\n",
    "\n",
    "with h5py.File('../../datasets/lj.h5', 'w') as f:\n",
    "        \n",
    "    for idx, item in tqdm(enumerate(dataset), total=len(dataset)):\n",
    "        group = f.create_group(str(idx))\n",
    "        group.create_dataset('wav', data=item[0].numpy()[0], dtype='f4', compression='gzip')\n",
    "        text = clean_text(item[3])\n",
    "        group.create_dataset('text', data=text, dtype=h5py.string_dtype())\n",
    "        group.create_dataset('durations', data=align[idx].numpy(), dtype='f4', compression='gzip')"
   ]
  },
  {
   "cell_type": "code",
   "execution_count": null,
   "id": "8c5013a8",
   "metadata": {},
   "outputs": [],
   "source": [
    "with h5py.File('../../datasets/librispeech.h5', 'a') as f:\n",
    "    split_group = f.create_group('train-clean-100')\n",
    "    \n",
    "    with h5py.File('../../datasets/librispeech-train-clean-100.h5', 'r') as train:\n",
    "        for k in train.keys():\n",
    "            group = split_group.create_group(k)\n",
    "            group.create_dataset('wav', data=train[k]['wav'][:], dtype='f4', compression='gzip')\n",
    "            str_ds = group.create_dataset('text', data=train[k]['text'].asstr()[()],\n",
    "                                          dtype=h5py.string_dtype())"
   ]
  },
  {
   "cell_type": "code",
   "execution_count": null,
   "id": "e447b63c",
   "metadata": {},
   "outputs": [],
   "source": [
    "f = h5py.File('../../datasets/librispeech.h5', 'r')"
   ]
  },
  {
   "cell_type": "code",
   "execution_count": null,
   "id": "e4402332",
   "metadata": {},
   "outputs": [],
   "source": [
    "f['train-clean-100']['1']['wav'][:],\n",
    "#f['train-clean-100']['1']['text'].asstr()[()]"
   ]
  },
  {
   "cell_type": "code",
   "execution_count": null,
   "id": "6cc79af2",
   "metadata": {},
   "outputs": [],
   "source": [
    "import numpy as np\n",
    "lens = []\n",
    "target_lens = []\n",
    "keys = list(f.keys())\n",
    "for k in tqdm(keys):\n",
    "    lens.append(len(f[k]['wav'][:]) / 16000)\n",
    "    target_lens.append(len(f[k]['text'].asstr()[()]))"
   ]
  },
  {
   "cell_type": "code",
   "execution_count": null,
   "id": "fd4455df",
   "metadata": {},
   "outputs": [],
   "source": [
    "lens = np.array(lens)\n",
    "target_lens = np.array(target_lens)"
   ]
  },
  {
   "cell_type": "code",
   "execution_count": null,
   "id": "5cc90abc",
   "metadata": {},
   "outputs": [],
   "source": [
    "lens[10 > target_lens]"
   ]
  },
  {
   "cell_type": "code",
   "execution_count": null,
   "id": "8198e28d",
   "metadata": {},
   "outputs": [],
   "source": [
    "import matplotlib.pyplot as plt\n",
    "\n",
    "plt.hist(lens)"
   ]
  },
  {
   "cell_type": "code",
   "execution_count": null,
   "id": "66502534",
   "metadata": {},
   "outputs": [],
   "source": [
    "with h5py.File('../../datasets/librispeech-train-clean-100.h5', 'r') as f:\n",
    "    with open('../../datasets/train_corpus.txt', 'w+') as out:\n",
    "        for k in tqdm(f.keys(), total=len(dataset)):\n",
    "            text = f[k]['text'].asstr()[()]\n",
    "            print(text, file=out)"
   ]
  },
  {
   "cell_type": "code",
   "execution_count": null,
   "id": "5d8b3d87",
   "metadata": {},
   "outputs": [],
   "source": [
    "import torch\n",
    "import math\n",
    "\n",
    "def CosineWithWarmup(\n",
    "        optimizer, num_warmup_steps, num_training_steps, num_cycles=0.5, last_epoch=-1\n",
    "):\n",
    "    def lr_lambda(current_step):\n",
    "        if current_step < num_warmup_steps:\n",
    "            return float(current_step) / float(max(1, num_warmup_steps))\n",
    "        progress = float(current_step - num_warmup_steps) / float(max(1, num_training_steps - num_warmup_steps))\n",
    "        return max(0.0, 0.5 * (1.0 + math.cos(math.pi * float(num_cycles) * 2.0 * progress)))\n",
    "\n",
    "    return torch.optim.lr_scheduler.LambdaLR(optimizer, lr_lambda, last_epoch)"
   ]
  },
  {
   "cell_type": "code",
   "execution_count": null,
   "id": "2ba9259f",
   "metadata": {},
   "outputs": [],
   "source": [
    "m = torch.nn.Linear(23, 23)\n",
    "opt = torch.optim.Adam(m.parameters(), lr=0.03)\n",
    "p = CosineWithWarmup(opt, 100, 300)"
   ]
  },
  {
   "cell_type": "code",
   "execution_count": null,
   "id": "544e3074",
   "metadata": {},
   "outputs": [],
   "source": [
    "lrs = []\n",
    "\n",
    "for i in range(300):\n",
    "    lrs.append(p.get_last_lr()[0])\n",
    "    p.step()"
   ]
  },
  {
   "cell_type": "code",
   "execution_count": null,
   "id": "a8aa2fdc",
   "metadata": {},
   "outputs": [],
   "source": [
    "import matplotlib.pyplot as plt\n",
    "%matplotlib inline"
   ]
  },
  {
   "cell_type": "code",
   "execution_count": null,
   "id": "0507d001",
   "metadata": {},
   "outputs": [],
   "source": [
    "plt.plot(range(300), lrs)"
   ]
  },
  {
   "cell_type": "code",
   "execution_count": null,
   "id": "7b4ab177",
   "metadata": {},
   "outputs": [],
   "source": [
    "!pip install youtokentome"
   ]
  },
  {
   "cell_type": "code",
   "execution_count": null,
   "id": "d4dd58e6",
   "metadata": {},
   "outputs": [],
   "source": [
    "!pip install cython"
   ]
  },
  {
   "cell_type": "code",
   "execution_count": null,
   "id": "ffa0acc5",
   "metadata": {},
   "outputs": [],
   "source": [
    "import youtokentome as yttm\n",
    "\n",
    "yttm.BPE.train(data='../../datasets/train_corpus.txt', vocab_size=10000,\n",
    "               model='../../bpe_model', pad_id=0, unk_id=1, bos_id=2, eos_id=3)"
   ]
  },
  {
   "cell_type": "code",
   "execution_count": null,
   "id": "9c55cc2e",
   "metadata": {},
   "outputs": [],
   "source": [
    "model = yttm.BPE(model='../../bpe_model')"
   ]
  },
  {
   "cell_type": "code",
   "execution_count": null,
   "id": "dfb73c06",
   "metadata": {},
   "outputs": [],
   "source": [
    "model.vocab()"
   ]
  },
  {
   "cell_type": "code",
   "execution_count": null,
   "id": "65d4115c",
   "metadata": {},
   "outputs": [],
   "source": [
    "import youtokentome as yttm"
   ]
  },
  {
   "cell_type": "code",
   "execution_count": null,
   "id": "e7be4821",
   "metadata": {},
   "outputs": [],
   "source": [
    "yttm.BPE.train(data='../../datasets/train_corpus.txt', vocab_size=32,\n",
    "               model='../../bpe_model__', pad_id=0, unk_id=1, bos_id=2, eos_id=3)"
   ]
  },
  {
   "cell_type": "code",
   "execution_count": null,
   "id": "ff49ae60",
   "metadata": {},
   "outputs": [],
   "source": [
    "model = yttm.BPE(model='../../bpe_model__')"
   ]
  },
  {
   "cell_type": "code",
   "execution_count": null,
   "id": "17bad1b4",
   "metadata": {},
   "outputs": [],
   "source": [
    "sorted(model.vocab())"
   ]
  },
  {
   "cell_type": "code",
   "execution_count": null,
   "id": "7bc9a2b0",
   "metadata": {},
   "outputs": [],
   "source": []
  }
 ],
 "metadata": {
  "kernelspec": {
   "display_name": "dla",
   "language": "python",
   "name": "dla"
  },
  "language_info": {
   "codemirror_mode": {
    "name": "ipython",
    "version": 3
   },
   "file_extension": ".py",
   "mimetype": "text/x-python",
   "name": "python",
   "nbconvert_exporter": "python",
   "pygments_lexer": "ipython3",
   "version": "3.9.6"
  }
 },
 "nbformat": 4,
 "nbformat_minor": 5
}
