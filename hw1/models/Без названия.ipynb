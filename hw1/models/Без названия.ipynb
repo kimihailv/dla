{
 "cells": [
  {
   "cell_type": "code",
   "execution_count": 1,
   "id": "3c893652",
   "metadata": {},
   "outputs": [],
   "source": [
    "from quartznet import QuartzNet"
   ]
  },
  {
   "cell_type": "code",
   "execution_count": 2,
   "id": "f211f3da",
   "metadata": {},
   "outputs": [],
   "source": [
    "model = QuartzNet(40, 5, 5, 28)"
   ]
  },
  {
   "cell_type": "code",
   "execution_count": 3,
   "id": "6ca807f3",
   "metadata": {},
   "outputs": [],
   "source": [
    "import torch\n",
    "\n",
    "b = torch.rand(64, 40, 361)"
   ]
  },
  {
   "cell_type": "code",
   "execution_count": 7,
   "id": "e29d372a",
   "metadata": {},
   "outputs": [
    {
     "name": "stdout",
     "output_type": "stream",
     "text": [
      "torch.Size([64, 28, 181])\n"
     ]
    }
   ],
   "source": [
    "with torch.no_grad():\n",
    "    x = model.conv1(b)\n",
    "    x = model.blocks[0](x)\n",
    "    x = model.blocks[1](x)\n",
    "    x = model.blocks[2](x)\n",
    "    x = model.blocks[3](x)\n",
    "    x = model.blocks[4](x)\n",
    "    x = model.final[0](x)\n",
    "    x = model.final[1](x)\n",
    "    x = model.final[2](x)\n",
    "\n",
    "    print(x.shape)"
   ]
  },
  {
   "cell_type": "code",
   "execution_count": null,
   "id": "2b7b701f",
   "metadata": {},
   "outputs": [],
   "source": [
    "out.shape"
   ]
  },
  {
   "cell_type": "code",
   "execution_count": null,
   "id": "c7bac2d9",
   "metadata": {},
   "outputs": [],
   "source": [
    "with torch.no_grad():\n",
    "    x = model.conv1(b)\n",
    "    x = model.blocks[0](x)\n",
    "    x = model.blocks[1](x)\n",
    "    x = model.blocks[2](x)\n",
    "    x = model.blocks[3](x)\n",
    "    x = model.blocks[4](x)\n",
    "    print(x.shape)"
   ]
  },
  {
   "cell_type": "code",
   "execution_count": 8,
   "id": "2666209c",
   "metadata": {},
   "outputs": [],
   "source": [
    "wavs = torch.rand(64, 48000)"
   ]
  },
  {
   "cell_type": "code",
   "execution_count": null,
   "id": "593673b2",
   "metadata": {},
   "outputs": [],
   "source": []
  }
 ],
 "metadata": {
  "kernelspec": {
   "display_name": "Python 3 (ipykernel)",
   "language": "python",
   "name": "python3"
  },
  "language_info": {
   "codemirror_mode": {
    "name": "ipython",
    "version": 3
   },
   "file_extension": ".py",
   "mimetype": "text/x-python",
   "name": "python",
   "nbconvert_exporter": "python",
   "pygments_lexer": "ipython3",
   "version": "3.9.1"
  }
 },
 "nbformat": 4,
 "nbformat_minor": 5
}
