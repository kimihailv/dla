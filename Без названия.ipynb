{
 "cells": [
  {
   "cell_type": "code",
   "execution_count": 2,
   "id": "74a5bb22",
   "metadata": {},
   "outputs": [],
   "source": [
    "import torch"
   ]
  },
  {
   "cell_type": "code",
   "execution_count": 3,
   "id": "bda8a610",
   "metadata": {},
   "outputs": [],
   "source": [
    "a = torch.FloatTensor([1.])\n",
    "a.require_grad = True"
   ]
  },
  {
   "cell_type": "code",
   "execution_count": 5,
   "id": "3da9893e",
   "metadata": {},
   "outputs": [
    {
     "data": {
      "text/plain": [
       "tensor([8.])"
      ]
     },
     "execution_count": 5,
     "metadata": {},
     "output_type": "execute_result"
    }
   ],
   "source": [
    "a * 8"
   ]
  },
  {
   "cell_type": "code",
   "execution_count": 13,
   "id": "e3d95c5e",
   "metadata": {},
   "outputs": [
    {
     "data": {
      "text/plain": [
       "tensor([73, 44, 43,  2, 59, 64, 31, 44, 63, 54, 39, 13, 75, 85, 22, 75, 14, 11,\n",
       "        32, 31, 42, 69, 26, 67,  3,  8, 62, 52, 53, 28, 65, 41,  0, 34, 74, 42,\n",
       "         5, 22, 73,  6, 14, 28, 36,  3, 48, 19, 76, 58, 24, 35, 46, 86, 61, 85,\n",
       "         7, 49,  7, 54, 53, 59, 65, 88, 20, 12])"
      ]
     },
     "execution_count": 13,
     "metadata": {},
     "output_type": "execute_result"
    }
   ],
   "source": [
    "from torch.distributions.categorical import Categorical\n",
    "\n",
    "a = torch.randn(64, 89)\n",
    "Categorical(logits=a).sample()"
   ]
  },
  {
   "cell_type": "code",
   "execution_count": 12,
   "id": "dbe9689e",
   "metadata": {},
   "outputs": [
    {
     "data": {
      "text/plain": [
       "tensor([[ 0.1054, -1.2316,  0.4835,  ...,  0.4286,  0.7701,  1.0745],\n",
       "        [ 0.6023,  1.3250, -0.7631,  ..., -0.7145, -1.0927,  2.1734],\n",
       "        [-0.6037, -0.7208,  0.8215,  ...,  1.9170,  0.9989, -0.4453],\n",
       "        ...,\n",
       "        [-0.6038,  0.1183,  0.5333,  ...,  1.5139, -0.0906,  0.6977],\n",
       "        [ 0.1483,  0.4950,  0.6965,  ...,  0.7408,  0.5077, -0.3870],\n",
       "        [-0.1407, -0.6000,  1.4597,  ...,  0.1278, -0.5380, -0.8911]])"
      ]
     },
     "execution_count": 12,
     "metadata": {},
     "output_type": "execute_result"
    }
   ],
   "source": [
    "a.a"
   ]
  },
  {
   "cell_type": "code",
   "execution_count": null,
   "id": "b1d001f8",
   "metadata": {},
   "outputs": [],
   "source": []
  }
 ],
 "metadata": {
  "kernelspec": {
   "display_name": "Python 3 (ipykernel)",
   "language": "python",
   "name": "python3"
  },
  "language_info": {
   "codemirror_mode": {
    "name": "ipython",
    "version": 3
   },
   "file_extension": ".py",
   "mimetype": "text/x-python",
   "name": "python",
   "nbconvert_exporter": "python",
   "pygments_lexer": "ipython3",
   "version": "3.9.6"
  }
 },
 "nbformat": 4,
 "nbformat_minor": 5
}
