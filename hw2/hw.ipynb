{
  "nbformat": 4,
  "nbformat_minor": 0,
  "metadata": {
    "accelerator": "GPU",
    "colab": {
      "name": "hw.ipynb",
      "provenance": [],
      "collapsed_sections": []
    },
    "kernelspec": {
      "display_name": "Python 3 (ipykernel)",
      "language": "python",
      "name": "python3"
    },
    "language_info": {
      "codemirror_mode": {
        "name": "ipython",
        "version": 3
      },
      "file_extension": ".py",
      "mimetype": "text/x-python",
      "name": "python",
      "nbconvert_exporter": "python",
      "pygments_lexer": "ipython3",
      "version": "3.8.12"
    }
  },
  "cells": [
    {
      "cell_type": "markdown",
      "metadata": {
        "id": "_lhrn5O-qUYZ"
      },
      "source": [
        "# Import and misc"
      ]
    },
    {
      "cell_type": "code",
      "metadata": {
        "colab": {
          "base_uri": "https://localhost:8080/"
        },
        "id": "meO-Mp9jiAFC",
        "outputId": "bb340268-d84a-4698-d545-0c00e06bf8cb"
      },
      "source": [
        "!pip install torchaudio==0.9.1 "
      ],
      "execution_count": 1,
      "outputs": [
        {
          "output_type": "stream",
          "name": "stdout",
          "text": [
            "Collecting torchaudio==0.9.1\n",
            "  Downloading torchaudio-0.9.1-cp37-cp37m-manylinux1_x86_64.whl (1.9 MB)\n",
            "\u001b[K     |████████████████████████████████| 1.9 MB 5.0 MB/s \n",
            "\u001b[?25hCollecting torch==1.9.1\n",
            "  Downloading torch-1.9.1-cp37-cp37m-manylinux1_x86_64.whl (831.4 MB)\n",
            "\u001b[K     |████████████████████████████████| 831.4 MB 6.7 kB/s \n",
            "\u001b[?25hRequirement already satisfied: typing-extensions in /usr/local/lib/python3.7/dist-packages (from torch==1.9.1->torchaudio==0.9.1) (3.10.0.2)\n",
            "Installing collected packages: torch, torchaudio\n",
            "  Attempting uninstall: torch\n",
            "    Found existing installation: torch 1.10.0+cu111\n",
            "    Uninstalling torch-1.10.0+cu111:\n",
            "      Successfully uninstalled torch-1.10.0+cu111\n",
            "  Attempting uninstall: torchaudio\n",
            "    Found existing installation: torchaudio 0.10.0+cu111\n",
            "    Uninstalling torchaudio-0.10.0+cu111:\n",
            "      Successfully uninstalled torchaudio-0.10.0+cu111\n",
            "\u001b[31mERROR: pip's dependency resolver does not currently take into account all the packages that are installed. This behaviour is the source of the following dependency conflicts.\n",
            "torchvision 0.11.1+cu111 requires torch==1.10.0, but you have torch 1.9.1 which is incompatible.\n",
            "torchtext 0.11.0 requires torch==1.10.0, but you have torch 1.9.1 which is incompatible.\u001b[0m\n",
            "Successfully installed torch-1.9.1 torchaudio-0.9.1\n"
          ]
        }
      ]
    },
    {
      "cell_type": "code",
      "metadata": {
        "id": "bbUpoArCqUYa"
      },
      "source": [
        "from typing import Tuple, Union, List, Callable, Optional\n",
        "from tqdm import tqdm\n",
        "from itertools import islice\n",
        "import pathlib\n",
        "import dataclasses\n",
        "import random\n",
        "import numpy as np\n",
        "import pandas as pd\n",
        "\n",
        "import torch\n",
        "import torch.nn.functional as F\n",
        "from torch import nn\n",
        "from torch import distributions\n",
        "from torch.utils.data import DataLoader, Dataset, WeightedRandomSampler\n",
        "from torch.nn.utils.rnn import pad_sequence\n",
        "\n",
        "import torchaudio\n",
        "from IPython import display as display_"
      ],
      "execution_count": 1,
      "outputs": []
    },
    {
      "cell_type": "markdown",
      "metadata": {
        "id": "812GwLfqqUYf"
      },
      "source": [
        "# Task"
      ]
    },
    {
      "cell_type": "markdown",
      "metadata": {
        "id": "i1DuQIyRqUYf"
      },
      "source": [
        "In this notebook we will implement a model for finding a keyword in a stream.\n",
        "\n",
        "We will implement the version with CRNN because it is easy and improves the model. \n",
        "(from https://www.dropbox.com/s/22ah2ba7dug6pzw/KWS_Attention.pdf)"
      ]
    },
    {
      "cell_type": "code",
      "metadata": {
        "id": "8PdhApeEh9pH"
      },
      "source": [
        "@dataclasses.dataclass\n",
        "class TaskConfig:\n",
        "    keyword: str = 'sheila'  # We will use 1 key word -- 'sheila'\n",
        "    batch_size: int = 128\n",
        "    learning_rate: float = 3e-4\n",
        "    weight_decay: float = 1e-5\n",
        "    num_epochs: int = 20\n",
        "    n_mels: int = 40\n",
        "    cnn_out_channels: int = 8\n",
        "    kernel_size: Tuple[int, int] = (5, 20)\n",
        "    stride: Tuple[int, int] = (2, 8)\n",
        "    hidden_size: int = 64\n",
        "    gru_num_layers: int = 2\n",
        "    gru_dropout: float = 0.1\n",
        "    bidirectional: bool = False\n",
        "    num_classes: int = 2\n",
        "    sample_rate: int = 16000\n",
        "    device: torch.device = torch.device(\n",
        "        'cuda:0' if torch.cuda.is_available() else 'cpu')"
      ],
      "execution_count": 3,
      "outputs": []
    },
    {
      "cell_type": "markdown",
      "metadata": {
        "id": "KA1gPmE1h9pI"
      },
      "source": [
        "# Data"
      ]
    },
    {
      "cell_type": "code",
      "metadata": {
        "colab": {
          "base_uri": "https://localhost:8080/"
        },
        "id": "Y2N8zcx9MF1X",
        "outputId": "dcaa98a9-f07a-46cb-f175-d791c558030e"
      },
      "source": [
        "!wget http://download.tensorflow.org/data/speech_commands_v0.01.tar.gz -O speech_commands_v0.01.tar.gz\n",
        "!mkdir speech_commands && tar -C speech_commands -xvzf speech_commands_v0.01.tar.gz 1> log"
      ],
      "execution_count": 5,
      "outputs": [
        {
          "output_type": "stream",
          "name": "stdout",
          "text": [
            "--2021-11-22 12:04:18--  http://download.tensorflow.org/data/speech_commands_v0.01.tar.gz\n",
            "Resolving download.tensorflow.org (download.tensorflow.org)... 173.194.216.128, 2607:f8b0:400c:c12::80\n",
            "Connecting to download.tensorflow.org (download.tensorflow.org)|173.194.216.128|:80... connected.\n",
            "HTTP request sent, awaiting response... 200 OK\n",
            "Length: 1489096277 (1.4G) [application/gzip]\n",
            "Saving to: ‘speech_commands_v0.01.tar.gz’\n",
            "\n",
            "speech_commands_v0. 100%[===================>]   1.39G   135MB/s    in 10s     \n",
            "\n",
            "2021-11-22 12:04:28 (136 MB/s) - ‘speech_commands_v0.01.tar.gz’ saved [1489096277/1489096277]\n",
            "\n"
          ]
        }
      ]
    },
    {
      "cell_type": "code",
      "metadata": {
        "id": "s7p1P7YQDMdZ"
      },
      "source": [
        "def seed(seed):\n",
        "    random.seed(seed)\n",
        "    np.random.seed(seed)\n",
        "    torch.manual_seed(seed)\n",
        "    torch.backends.cudnn.benchmark = False\n",
        "    torch.backends.cudnn.deterministic = True\n",
        "\n",
        "def seed_worker(worker_id):\n",
        "    worker_seed = torch.initial_seed() % 2**32\n",
        "    np.random.seed(worker_seed)\n",
        "    random.seed(worker_seed)"
      ],
      "execution_count": 4,
      "outputs": []
    },
    {
      "cell_type": "code",
      "metadata": {
        "id": "12wBTK0mNUsG"
      },
      "source": [
        "class SpeechCommandDataset(Dataset):\n",
        "\n",
        "    def __init__(\n",
        "        self,\n",
        "        transform: Optional[Callable] = None,\n",
        "        path2dir: str = None,\n",
        "        keywords: Union[str, List[str]] = None,\n",
        "        csv: Optional[pd.DataFrame] = None\n",
        "    ):        \n",
        "        self.transform = transform\n",
        "\n",
        "        if csv is None:\n",
        "            path2dir = pathlib.Path(path2dir)\n",
        "            keywords = keywords if isinstance(keywords, list) else [keywords]\n",
        "            \n",
        "            all_keywords = [\n",
        "                p.stem for p in path2dir.glob('*')\n",
        "                if p.is_dir() and not p.stem.startswith('_')\n",
        "            ]\n",
        "\n",
        "            triplets = []\n",
        "            for keyword in all_keywords:\n",
        "                paths = (path2dir / keyword).rglob('*.wav')\n",
        "                if keyword in keywords:\n",
        "                    for path2wav in paths:\n",
        "                        triplets.append((path2wav.as_posix(), keyword, 1))\n",
        "                else:\n",
        "                    for path2wav in paths:\n",
        "                        triplets.append((path2wav.as_posix(), keyword, 0))\n",
        "            \n",
        "            self.csv = pd.DataFrame(\n",
        "                triplets,\n",
        "                columns=['path', 'keyword', 'label']\n",
        "            )\n",
        "\n",
        "        else:\n",
        "            self.csv = csv\n",
        "    \n",
        "    def __getitem__(self, index: int):\n",
        "        instance = self.csv.iloc[index]\n",
        "\n",
        "        path2wav = instance['path']\n",
        "        wav, sr = torchaudio.load(path2wav)\n",
        "        wav = wav.sum(dim=0)\n",
        "        \n",
        "        if self.transform:\n",
        "            wav = self.transform(wav)\n",
        "\n",
        "        return {\n",
        "            'wav': wav,\n",
        "            'keywors': instance['keyword'],\n",
        "            'label': instance['label']\n",
        "        }\n",
        "\n",
        "    def __len__(self):\n",
        "        return len(self.csv)"
      ],
      "execution_count": 5,
      "outputs": []
    },
    {
      "cell_type": "code",
      "metadata": {
        "id": "-1rVkT81Pk90"
      },
      "source": [
        "dataset = SpeechCommandDataset(\n",
        "    path2dir='speech_commands', keywords=TaskConfig.keyword\n",
        ")"
      ],
      "execution_count": 6,
      "outputs": []
    },
    {
      "cell_type": "markdown",
      "metadata": {
        "id": "LUxfDJw1qUYi"
      },
      "source": [
        "### Augmentations"
      ]
    },
    {
      "cell_type": "code",
      "metadata": {
        "id": "dkmkxPWQqUYe"
      },
      "source": [
        "class AugsCreation:\n",
        "\n",
        "    def __init__(self):\n",
        "        self.background_noises = [\n",
        "            'speech_commands/_background_noise_/white_noise.wav',\n",
        "            'speech_commands/_background_noise_/dude_miaowing.wav',\n",
        "            'speech_commands/_background_noise_/doing_the_dishes.wav',\n",
        "            'speech_commands/_background_noise_/exercise_bike.wav',\n",
        "            'speech_commands/_background_noise_/pink_noise.wav',\n",
        "            'speech_commands/_background_noise_/running_tap.wav'\n",
        "        ]\n",
        "\n",
        "        self.noises = [\n",
        "            torchaudio.load(p)[0].squeeze()\n",
        "            for p in self.background_noises\n",
        "        ]\n",
        "\n",
        "    def add_rand_noise(self, audio):\n",
        "\n",
        "        # randomly choose noise\n",
        "        noise_num = torch.randint(low=0, high=len(\n",
        "            self.background_noises), size=(1,)).item()\n",
        "        noise = self.noises[noise_num]\n",
        "\n",
        "        noise_level = torch.Tensor([1])  # [0, 40]\n",
        "\n",
        "        noise_energy = torch.norm(noise)\n",
        "        audio_energy = torch.norm(audio)\n",
        "        alpha = (audio_energy / noise_energy) * \\\n",
        "            torch.pow(10, -noise_level / 20)\n",
        "\n",
        "        start = torch.randint(\n",
        "            low=0,\n",
        "            high=max(int(noise.size(0) - audio.size(0) - 1), 1),\n",
        "            size=(1,)\n",
        "        ).item()\n",
        "        noise_sample = noise[start: start + audio.size(0)]\n",
        "\n",
        "        audio_new = audio + alpha * noise_sample\n",
        "        audio_new.clamp_(-1, 1)\n",
        "        return audio_new\n",
        "\n",
        "    def __call__(self, wav):\n",
        "        aug_num = torch.randint(low=0, high=4, size=(1,)).item()   # choose 1 random aug from augs\n",
        "        augs = [\n",
        "            lambda x: x,\n",
        "            lambda x: (x + distributions.Normal(0, 0.01).sample(x.size())).clamp_(-1, 1),\n",
        "            lambda x: torchaudio.transforms.Vol(.25)(x),\n",
        "            lambda x: self.add_rand_noise(x)\n",
        "        ]\n",
        "\n",
        "        return augs[aug_num](wav)"
      ],
      "execution_count": 7,
      "outputs": []
    },
    {
      "cell_type": "code",
      "metadata": {
        "id": "ClWThxyYh9pM"
      },
      "source": [
        "seed(24)\n",
        "indexes = torch.randperm(len(dataset))\n",
        "train_indexes = indexes[:int(len(dataset) * 0.8)]\n",
        "val_indexes = indexes[int(len(dataset) * 0.8):]\n",
        "\n",
        "train_df = dataset.csv.iloc[train_indexes].reset_index(drop=True)\n",
        "val_df = dataset.csv.iloc[val_indexes].reset_index(drop=True)"
      ],
      "execution_count": 8,
      "outputs": []
    },
    {
      "cell_type": "code",
      "metadata": {
        "colab": {
          "base_uri": "https://localhost:8080/"
        },
        "id": "phqAKkKdIp88",
        "outputId": "648ba773-92ab-4a6c-a5f0-2cf620872934"
      },
      "source": [
        "train_df.label.values.mean()"
      ],
      "execution_count": 9,
      "outputs": [
        {
          "output_type": "execute_result",
          "data": {
            "text/plain": [
              "0.026595333745364647"
            ]
          },
          "metadata": {},
          "execution_count": 9
        }
      ]
    },
    {
      "cell_type": "code",
      "metadata": {
        "id": "PDPLht5fqUYe"
      },
      "source": [
        "# Sample is a dict of utt, word and label\n",
        "train_set = SpeechCommandDataset(csv=train_df, transform=AugsCreation())\n",
        "val_set = SpeechCommandDataset(csv=val_df)"
      ],
      "execution_count": 10,
      "outputs": []
    },
    {
      "cell_type": "code",
      "metadata": {
        "id": "mmrJd8WIhkLP"
      },
      "source": [
        ""
      ],
      "execution_count": 10,
      "outputs": []
    },
    {
      "cell_type": "markdown",
      "metadata": {
        "id": "2vbPDqd6qUYj"
      },
      "source": [
        "### Sampler for oversampling:"
      ]
    },
    {
      "cell_type": "code",
      "metadata": {
        "id": "rfnjRKo2qUYj"
      },
      "source": [
        "# We should provide to WeightedRandomSampler _weight for every sample_; by default it is 1/len(target)\n",
        "\n",
        "def get_sampler(target):\n",
        "    class_sample_count = np.array(\n",
        "        [len(np.where(target == t)[0]) for t in np.unique(target)])   # for every class count it's number of occ.\n",
        "    weight = 1. / class_sample_count\n",
        "    samples_weight = np.array([weight[t] for t in target])\n",
        "    samples_weight = torch.from_numpy(samples_weight)\n",
        "    samples_weigth = samples_weight.float()\n",
        "    sampler = WeightedRandomSampler(samples_weight, len(samples_weight))\n",
        "    return sampler"
      ],
      "execution_count": 11,
      "outputs": []
    },
    {
      "cell_type": "code",
      "metadata": {
        "id": "UM8gLmHeqUYj"
      },
      "source": [
        "train_sampler = get_sampler(train_set.csv['label'].values)"
      ],
      "execution_count": 12,
      "outputs": []
    },
    {
      "cell_type": "code",
      "metadata": {
        "id": "lyBqbxp0h9pO"
      },
      "source": [
        "class Collator:\n",
        "    \n",
        "    def __call__(self, data):\n",
        "        wavs = []\n",
        "        labels = []    \n",
        "\n",
        "        for el in data:\n",
        "            wavs.append(el['wav'])\n",
        "            labels.append(el['label'])\n",
        "\n",
        "        # torch.nn.utils.rnn.pad_sequence takes list(Tensors) and returns padded (with 0.0) Tensor\n",
        "        wavs = pad_sequence(wavs, batch_first=True)    \n",
        "        labels = torch.Tensor(labels).long()\n",
        "        return wavs, labels"
      ],
      "execution_count": 13,
      "outputs": []
    },
    {
      "cell_type": "markdown",
      "metadata": {
        "id": "e8G9xPRVqUYk"
      },
      "source": [
        "###  Dataloaders"
      ]
    },
    {
      "cell_type": "code",
      "metadata": {
        "id": "6wGBMcQiqUYk"
      },
      "source": [
        "# Here we are obliged to use shuffle=False because of our sampler with randomness inside.\n",
        "g = torch.Generator()\n",
        "g.manual_seed(0)\n",
        "train_loader = DataLoader(train_set, batch_size=TaskConfig.batch_size,\n",
        "                          shuffle=False, collate_fn=Collator(),\n",
        "                          sampler=train_sampler,\n",
        "                          worker_init_fn=seed_worker,\n",
        "                          generator=g,\n",
        "                          num_workers=2, pin_memory=True)\n",
        "\n",
        "val_loader = DataLoader(val_set, batch_size=TaskConfig.batch_size,\n",
        "                        shuffle=False, collate_fn=Collator(),\n",
        "                        num_workers=2, pin_memory=True)"
      ],
      "execution_count": 14,
      "outputs": []
    },
    {
      "cell_type": "markdown",
      "metadata": {
        "id": "kTlsn6cpqUYk"
      },
      "source": [
        "### Creating MelSpecs on GPU for speeeed: "
      ]
    },
    {
      "cell_type": "code",
      "metadata": {
        "id": "pRXMt6it56fW"
      },
      "source": [
        "class LogMelspec:\n",
        "\n",
        "    def __init__(self, is_train, config):\n",
        "        # with augmentations\n",
        "        if is_train:\n",
        "            self.melspec = nn.Sequential(\n",
        "                torchaudio.transforms.MelSpectrogram(\n",
        "                    sample_rate=config.sample_rate,\n",
        "                    n_fft=400,\n",
        "                    win_length=400,\n",
        "                    hop_length=160,\n",
        "                    n_mels=config.n_mels\n",
        "                ),\n",
        "                torchaudio.transforms.FrequencyMasking(freq_mask_param=15),\n",
        "                torchaudio.transforms.TimeMasking(time_mask_param=35),\n",
        "            ).to(config.device)\n",
        "\n",
        "        # no augmentations\n",
        "        else:\n",
        "            self.melspec = torchaudio.transforms.MelSpectrogram(\n",
        "                sample_rate=config.sample_rate,\n",
        "                n_fft=400,\n",
        "                win_length=400,\n",
        "                hop_length=160,\n",
        "                n_mels=config.n_mels\n",
        "            ).to(config.device)\n",
        "\n",
        "    def __call__(self, batch):\n",
        "        # already on device\n",
        "        return torch.log(self.melspec(batch).clamp_(min=1e-9, max=1e9))"
      ],
      "execution_count": 15,
      "outputs": []
    },
    {
      "cell_type": "code",
      "metadata": {
        "id": "Pqkz4_gn8BiF"
      },
      "source": [
        "melspec_train = LogMelspec(is_train=True, config=TaskConfig)\n",
        "melspec_val = LogMelspec(is_train=False, config=TaskConfig)"
      ],
      "execution_count": 16,
      "outputs": []
    },
    {
      "cell_type": "markdown",
      "metadata": {
        "id": "zoAxmihY8yxr"
      },
      "source": [
        "### Quality measurment functions:"
      ]
    },
    {
      "cell_type": "code",
      "metadata": {
        "id": "euwD1UyuqUYk"
      },
      "source": [
        "# FA - true: 0, model: 1\n",
        "# FR - true: 1, model: 0\n",
        "\n",
        "def count_FA_FR(preds, labels):\n",
        "    FA = torch.sum(preds[labels == 0])\n",
        "    FR = torch.sum(labels[preds == 0])\n",
        "    \n",
        "    # torch.numel - returns total number of elements in tensor\n",
        "    return FA.item() / torch.numel(preds), FR.item() / torch.numel(preds)"
      ],
      "execution_count": 17,
      "outputs": []
    },
    {
      "cell_type": "code",
      "metadata": {
        "id": "YHBUrkT1qUYk"
      },
      "source": [
        "def get_au_fa_fr(probs, labels):\n",
        "    sorted_probs, _ = torch.sort(probs)\n",
        "    sorted_probs = torch.cat((torch.Tensor([0]), sorted_probs, torch.Tensor([1])))\n",
        "    labels = torch.cat(labels, dim=0)\n",
        "        \n",
        "    FAs, FRs = [], []\n",
        "    for prob in sorted_probs:\n",
        "        preds = (probs >= prob) * 1\n",
        "        FA, FR = count_FA_FR(preds, labels)        \n",
        "        FAs.append(FA)\n",
        "        FRs.append(FR)\n",
        "    # plt.plot(FAs, FRs)\n",
        "    # plt.show()\n",
        "\n",
        "    # ~ area under curve using trapezoidal rule\n",
        "    return -np.trapz(FRs, x=FAs)"
      ],
      "execution_count": 18,
      "outputs": []
    },
    {
      "cell_type": "markdown",
      "metadata": {
        "id": "CcEP5cEZqUYl"
      },
      "source": [
        "# Model"
      ]
    },
    {
      "cell_type": "code",
      "metadata": {
        "colab": {
          "base_uri": "https://localhost:8080/"
        },
        "id": "2cP_pFIsy5p2",
        "outputId": "e575ad31-d6c7-4658-ee73-4113a8ef0c80"
      },
      "source": [
        "class Attention(nn.Module):\n",
        "\n",
        "    def __init__(self, hidden_size: int):\n",
        "        super().__init__()\n",
        "\n",
        "        self.energy = nn.Sequential(\n",
        "            nn.Linear(hidden_size, hidden_size),\n",
        "            nn.Tanh(),\n",
        "            nn.Linear(hidden_size, 1)\n",
        "        )\n",
        "    \n",
        "    def forward(self, input):\n",
        "        energy = self.energy(input)\n",
        "        alpha = torch.softmax(energy, dim=-2)\n",
        "        return (input * alpha).sum(dim=-2)\n",
        "\n",
        "class CRNN(nn.Module):\n",
        "\n",
        "    def __init__(self, config: TaskConfig):\n",
        "        super().__init__()\n",
        "        self.config = config\n",
        "\n",
        "        self.conv = nn.Sequential(\n",
        "            nn.Conv2d(\n",
        "                in_channels=1, out_channels=config.cnn_out_channels,\n",
        "                kernel_size=config.kernel_size, stride=config.stride\n",
        "            ),\n",
        "            nn.Flatten(start_dim=1, end_dim=2),\n",
        "        )\n",
        "\n",
        "        self.conv_out_frequency = (config.n_mels - config.kernel_size[0]) // \\\n",
        "            config.stride[0] + 1\n",
        "        \n",
        "        self.gru = nn.GRU(\n",
        "            input_size=self.conv_out_frequency * config.cnn_out_channels,\n",
        "            hidden_size=config.hidden_size,\n",
        "            num_layers=config.gru_num_layers,\n",
        "            dropout=config.gru_dropout,\n",
        "            bidirectional=config.bidirectional,\n",
        "            batch_first=True\n",
        "        )\n",
        "\n",
        "        self.attention = Attention(config.hidden_size)\n",
        "        self.classifier = nn.Linear(config.hidden_size, config.num_classes)\n",
        "    \n",
        "    def forward(self, input):\n",
        "        # input: bs, n_mels, n_frames\n",
        "        input = input.unsqueeze(dim=1)\n",
        "        # bs x 1 x n_mels x n_frames\n",
        "        conv_output = self.conv(input).transpose(-1, -2)\n",
        "        # bs x L x 8 * self.conv_out_frequency\n",
        "        gru_output, _ = self.gru(conv_output)\n",
        "        # bs x L x hid\n",
        "        contex_vector = self.attention(gru_output)\n",
        "        # bs x hid\n",
        "        output = self.classifier(contex_vector)\n",
        "        # bs x 2\n",
        "        return output\n",
        "\n",
        "config = TaskConfig()\n",
        "model = CRNN(config)\n",
        "model"
      ],
      "execution_count": 19,
      "outputs": [
        {
          "output_type": "execute_result",
          "data": {
            "text/plain": [
              "CRNN(\n",
              "  (conv): Sequential(\n",
              "    (0): Conv2d(1, 8, kernel_size=(5, 20), stride=(2, 8))\n",
              "    (1): Flatten(start_dim=1, end_dim=2)\n",
              "  )\n",
              "  (gru): GRU(144, 64, num_layers=2, batch_first=True, dropout=0.1)\n",
              "  (attention): Attention(\n",
              "    (energy): Sequential(\n",
              "      (0): Linear(in_features=64, out_features=64, bias=True)\n",
              "      (1): Tanh()\n",
              "      (2): Linear(in_features=64, out_features=1, bias=True)\n",
              "    )\n",
              "  )\n",
              "  (classifier): Linear(in_features=64, out_features=2, bias=True)\n",
              ")"
            ]
          },
          "metadata": {},
          "execution_count": 19
        }
      ]
    },
    {
      "cell_type": "code",
      "metadata": {
        "id": "DmmSFvWaqUYn"
      },
      "source": [
        "def train_epoch(model, opt, loader, log_melspec, device, scheduler=None):\n",
        "    model.train()\n",
        "    for i, (batch, labels) in tqdm(enumerate(loader), total=len(loader)):\n",
        "        batch, labels = batch.to(device), labels.to(device)\n",
        "        batch = log_melspec(batch)\n",
        "\n",
        "        opt.zero_grad()\n",
        "\n",
        "        # run model # with autocast():\n",
        "        logits = model(batch)\n",
        "        # we need probabilities so we use softmax & CE separately\n",
        "        probs = F.softmax(logits, dim=-1)\n",
        "        loss = F.cross_entropy(logits, labels)\n",
        "\n",
        "        loss.backward()\n",
        "        torch.nn.utils.clip_grad_norm_(model.parameters(), 5)\n",
        "\n",
        "        opt.step()\n",
        "\n",
        "        if scheduler is not None:\n",
        "            scheduler.step()\n",
        "\n",
        "        # logging\n",
        "        argmax_probs = torch.argmax(probs, dim=-1)\n",
        "        FA, FR = count_FA_FR(argmax_probs, labels)\n",
        "        acc = torch.sum(argmax_probs == labels) / torch.numel(argmax_probs)\n",
        "\n",
        "    return acc"
      ],
      "execution_count": 20,
      "outputs": []
    },
    {
      "cell_type": "code",
      "metadata": {
        "id": "UIeRbn4tqUYo"
      },
      "source": [
        "@torch.no_grad()\n",
        "def validation(model, loader, log_melspec, device):\n",
        "    model.eval()\n",
        "\n",
        "    val_losses, accs, FAs, FRs = [], [], [], []\n",
        "    all_probs, all_labels = [], []\n",
        "    for i, (batch, labels) in tqdm(enumerate(loader)):\n",
        "        batch, labels = batch.to(device), labels.to(device)\n",
        "        batch = log_melspec(batch)\n",
        "\n",
        "        output = model(batch)\n",
        "        # we need probabilities so we use softmax & CE separately\n",
        "        probs = F.softmax(output, dim=-1)\n",
        "        loss = F.cross_entropy(output, labels)\n",
        "\n",
        "        # logging\n",
        "        argmax_probs = torch.argmax(probs, dim=-1)\n",
        "        all_probs.append(probs[:, 1].cpu())\n",
        "        all_labels.append(labels.cpu())\n",
        "        val_losses.append(loss.item())\n",
        "        accs.append(\n",
        "            torch.sum(argmax_probs == labels).item() /  # ???\n",
        "            torch.numel(argmax_probs)\n",
        "        )\n",
        "        FA, FR = count_FA_FR(argmax_probs, labels)\n",
        "        FAs.append(FA)\n",
        "        FRs.append(FR)\n",
        "\n",
        "    # area under FA/FR curve for whole loader\n",
        "    au_fa_fr = get_au_fa_fr(torch.cat(all_probs, dim=0).cpu(), all_labels)\n",
        "    return au_fa_fr"
      ],
      "execution_count": 21,
      "outputs": []
    },
    {
      "cell_type": "code",
      "metadata": {
        "id": "PpyvKwp0k3IU"
      },
      "source": [
        "from collections import defaultdict\n",
        "from IPython.display import clear_output\n",
        "from matplotlib import pyplot as plt\n",
        "\n",
        "history = defaultdict(list)"
      ],
      "execution_count": 22,
      "outputs": []
    },
    {
      "cell_type": "markdown",
      "metadata": {
        "id": "GSNW-nZCJ4Q0"
      },
      "source": [
        "# Training"
      ]
    },
    {
      "cell_type": "code",
      "metadata": {
        "colab": {
          "base_uri": "https://localhost:8080/"
        },
        "id": "Q8sVpHNoocgA",
        "outputId": "8bf5fbf1-5039-4c37-ec6c-caf827a348df"
      },
      "source": [
        "seed(24)\n",
        "config = TaskConfig()\n",
        "model = CRNN(config).to(config.device)\n",
        "\n",
        "print(model)\n",
        "\n",
        "opt = torch.optim.Adam(\n",
        "    model.parameters(),\n",
        "    lr=config.learning_rate,\n",
        "    weight_decay=config.weight_decay\n",
        ")"
      ],
      "execution_count": 23,
      "outputs": [
        {
          "output_type": "stream",
          "name": "stdout",
          "text": [
            "CRNN(\n",
            "  (conv): Sequential(\n",
            "    (0): Conv2d(1, 8, kernel_size=(5, 20), stride=(2, 8))\n",
            "    (1): Flatten(start_dim=1, end_dim=2)\n",
            "  )\n",
            "  (gru): GRU(144, 64, num_layers=2, batch_first=True, dropout=0.1)\n",
            "  (attention): Attention(\n",
            "    (energy): Sequential(\n",
            "      (0): Linear(in_features=64, out_features=64, bias=True)\n",
            "      (1): Tanh()\n",
            "      (2): Linear(in_features=64, out_features=1, bias=True)\n",
            "    )\n",
            "  )\n",
            "  (classifier): Linear(in_features=64, out_features=2, bias=True)\n",
            ")\n"
          ]
        }
      ]
    },
    {
      "cell_type": "code",
      "metadata": {
        "colab": {
          "base_uri": "https://localhost:8080/"
        },
        "id": "zedXm9dmINAE",
        "outputId": "b0c722e2-d8f7-4877-8385-4928ab5e7a89"
      },
      "source": [
        "sum([p.numel() for p in model.parameters()])"
      ],
      "execution_count": null,
      "outputs": [
        {
          "output_type": "execute_result",
          "data": {
            "text/plain": [
              "70443"
            ]
          },
          "metadata": {},
          "execution_count": 24
        }
      ]
    },
    {
      "cell_type": "code",
      "metadata": {
        "id": "32oooz4lqUYo",
        "scrolled": false
      },
      "source": [
        "# TRAIN\n",
        "for n in range(TaskConfig.num_epochs):\n",
        "\n",
        "    train_epoch(model, opt, train_loader,\n",
        "                melspec_train, config.device)\n",
        "\n",
        "    au_fa_fr = validation(model, val_loader,\n",
        "                          melspec_val, config.device)\n",
        "    history['val_metric'].append(au_fa_fr)\n",
        "\n",
        "    clear_output()\n",
        "    plt.plot(history['val_metric'])\n",
        "    plt.ylabel('Metric')\n",
        "    plt.xlabel('Epoch')\n",
        "    plt.grid()\n",
        "    plt.show()\n",
        "\n",
        "\n",
        "    print(f'Metric on {n}: {au_fa_fr}')\n",
        "    print('END OF EPOCH', n)"
      ],
      "execution_count": null,
      "outputs": []
    },
    {
      "cell_type": "code",
      "metadata": {
        "colab": {
          "base_uri": "https://localhost:8080/"
        },
        "id": "iZ9I4LZn1pQJ",
        "outputId": "263490e6-f688-433d-f76e-da89752844a4"
      },
      "source": [
        "history"
      ],
      "execution_count": null,
      "outputs": [
        {
          "output_type": "execute_result",
          "data": {
            "text/plain": [
              "defaultdict(list,\n",
              "            {'val_metric': [0.0005444730737539649,\n",
              "              0.00034473328866623963,\n",
              "              0.00020153303313585224,\n",
              "              0.0001397957696353575,\n",
              "              9.434095970995331e-05,\n",
              "              7.433177267045217e-05,\n",
              "              6.633525891174909e-05,\n",
              "              5.567125138428455e-05,\n",
              "              5.000208118221892e-05,\n",
              "              5.365123652807484e-05,\n",
              "              4.750167874572892e-05,\n",
              "              4.586060316092043e-05,\n",
              "              3.639607269726139e-05,\n",
              "              4.222636668401731e-05,\n",
              "              4.403453360109719e-05,\n",
              "              3.557851867864771e-05,\n",
              "              4.163557947348626e-05,\n",
              "              3.543529753670079e-05,\n",
              "              4.9178559616024116e-05,\n",
              "              2.9324528813632145e-05]})"
            ]
          },
          "metadata": {},
          "execution_count": 26
        }
      ]
    },
    {
      "cell_type": "code",
      "metadata": {
        "id": "mGf6ScGe6Yhd"
      },
      "source": [
        "torch.save(model.state_dict(), 'baseline.pt')"
      ],
      "execution_count": null,
      "outputs": []
    },
    {
      "cell_type": "code",
      "metadata": {
        "colab": {
          "base_uri": "https://localhost:8080/"
        },
        "id": "LClx3YZQkUJZ",
        "outputId": "f8582d1d-03b9-4e1c-e28e-8a7b1c6e2eb2"
      },
      "source": [
        "validation(model, val_loader, melspec_val, config.device)"
      ],
      "execution_count": null,
      "outputs": [
        {
          "output_type": "stream",
          "name": "stderr",
          "text": [
            "102it [00:05, 18.76it/s]\n"
          ]
        },
        {
          "output_type": "execute_result",
          "data": {
            "text/plain": [
              "2.9324528813632145e-05"
            ]
          },
          "metadata": {},
          "execution_count": 28
        }
      ]
    },
    {
      "cell_type": "markdown",
      "metadata": {
        "id": "S_FjNR7H3duW"
      },
      "source": [
        "# Streaming"
      ]
    },
    {
      "cell_type": "code",
      "metadata": {
        "id": "a2QPaCqm3c9r"
      },
      "source": [
        "import torch.nn.functional as F\n",
        "\n",
        "\n",
        "class SteamingModel(CRNN):\n",
        "    def __init__(self, batch_size, config: TaskConfig):\n",
        "        super().__init__(config)\n",
        "        self.kernel_size = config.kernel_size[1]\n",
        "        self.stride = config.stride[1]\n",
        "        self.max_win_len = config.max_win_len\n",
        "        self.batch_size = batch_size\n",
        "        self.ptr = 0\n",
        "        self.register_buffer('attn_scores', torch.zeros((self.batch_size, self.max_win_len, 1)))\n",
        "        self.last_hidden = None\n",
        "        self.context = None\n",
        "        self.res_input = None\n",
        "\n",
        "    def forward(self, x):\n",
        "        #print('attn\\n', self.attn_scores, self.ptr)\n",
        "\n",
        "        if self.res_input is not None:\n",
        "            x = torch.cat([self.res_input, x], dim=2)\n",
        "            # print('Res:', self.res_input.shape, 'Inp:', x.shape)\n",
        "\n",
        "        if x.size(2) < self.kernel_size:\n",
        "            x = F.pad(x, (0, self.kernel_size - x.size(2)))\n",
        "\n",
        "        conv_output_size = self.calc_conv_output_size(x.size(2))\n",
        "        used_size = self.calc_used_size(conv_output_size)\n",
        "        #print('Out:', conv_output_size, 'Used:', used_size)\n",
        "\n",
        "        self.res_input = x[:, :, used_size:]\n",
        "        x = x.unsqueeze(dim=1)\n",
        "\n",
        "        # bs x conv_output_size x 8 * cof\n",
        "        conv_output = self.conv(x).transpose(-1, -2)\n",
        "        upd_size = min(conv_output_size, self.max_win_len - self.ptr)\n",
        "\n",
        "        #print('upd', upd_size, 'cot:', conv_output_size)\n",
        "        gru_output, self.last_hidden = self.gru(conv_output, self.last_hidden)\n",
        "        attn_scores = self.attention.energy(gru_output).exp()\n",
        "        self.attn_scores[:, self.ptr:self.ptr+upd_size] = attn_scores[:, :upd_size]\n",
        "        self.ptr += upd_size\n",
        "\n",
        "        if self.context is None:\n",
        "            self.context = (gru_output * attn_scores).sum(dim=1)\n",
        "        else:\n",
        "            new_context = (gru_output[:, :upd_size] * attn_scores[:, :upd_size]).sum(dim=1)\n",
        "            self.context = self.context + new_context\n",
        "\n",
        "        norm_constant = self.attn_scores[:, :self.ptr].sum()\n",
        "        logits = self.classifier(self.context / norm_constant)\n",
        "\n",
        "        if self.ptr == self.max_win_len:\n",
        "            self.reset(True)\n",
        "\n",
        "            if upd_size < conv_output_size:\n",
        "                self.attn_scores[:, :conv_output_size - upd_size] = attn_scores[:, upd_size:]\n",
        "                self.context = (gru_output[:, upd_size:] * attn_scores[:, upd_size:]).sum(dim=1)\n",
        "                self.ptr = conv_output_size - upd_size\n",
        "        \n",
        "        return logits\n",
        "\n",
        "    def reset(self, reset_hidden=True):\n",
        "        self.register_buffer('attn_scores', torch.zeros((self.batch_size, self.max_win_len, 1)))\n",
        "        if reset_hidden:\n",
        "            self.last_hidden = None\n",
        "        self.context = None\n",
        "        self.res_input = None\n",
        "        self.ptr = 0\n",
        "\n",
        "\n",
        "    def calc_conv_output_size(self, input_size):\n",
        "        return (input_size - self.kernel_size) // self.stride + 1\n",
        "\n",
        "    def calc_used_size(self, output_size):\n",
        "        return (output_size - 1) * self.stride + self.kernel_size\n"
      ],
      "execution_count": null,
      "outputs": []
    },
    {
      "cell_type": "code",
      "metadata": {
        "id": "kqbyIe5fEQma"
      },
      "source": [
        "@dataclasses.dataclass\n",
        "class StreamingConfig:\n",
        "    keyword: str = 'sheila'  # We will use 1 key word -- 'sheila'\n",
        "    batch_size: int = 128\n",
        "    learning_rate: float = 3e-4\n",
        "    weight_decay: float = 1e-5\n",
        "    num_epochs: int = 20\n",
        "    n_mels: int = 40\n",
        "    cnn_out_channels: int = 8\n",
        "    kernel_size: Tuple[int, int] = (5, 20)\n",
        "    stride: Tuple[int, int] = (2, 8)\n",
        "    max_win_len: int = 11\n",
        "    hidden_size: int = 64\n",
        "    gru_num_layers: int = 2\n",
        "    gru_dropout: float = 0.1\n",
        "    bidirectional: bool = False\n",
        "    num_classes: int = 2\n",
        "    sample_rate: int = 16000\n",
        "    device: torch.device = torch.device(\n",
        "        'cuda:0' if torch.cuda.is_available() else 'cpu')"
      ],
      "execution_count": null,
      "outputs": []
    },
    {
      "cell_type": "code",
      "metadata": {
        "colab": {
          "base_uri": "https://localhost:8080/"
        },
        "id": "Rxbz7gukEqcK",
        "outputId": "1fe3467c-1c7a-46d0-855e-83127f2971fd"
      },
      "source": [
        "model = SteamingModel(1, StreamingConfig()).to(StreamingConfig.device)\n",
        "model.load_state_dict(torch.load('baseline.pt'), strict=False)"
      ],
      "execution_count": null,
      "outputs": [
        {
          "output_type": "execute_result",
          "data": {
            "text/plain": [
              "_IncompatibleKeys(missing_keys=['attn_scores'], unexpected_keys=[])"
            ]
          },
          "metadata": {},
          "execution_count": 27
        }
      ]
    },
    {
      "cell_type": "code",
      "metadata": {
        "id": "D9J8NeXvFCNb"
      },
      "source": [
        "batch = next(iter(val_loader))"
      ],
      "execution_count": null,
      "outputs": []
    },
    {
      "cell_type": "code",
      "metadata": {
        "id": "xgfkAXX-FM9-"
      },
      "source": [
        "pos_index = torch.where(batch[1] == 1)[0]\n",
        "neg_index = torch.where(batch[1] == 0)[0]\n",
        "\n",
        "x = torch.cat([batch[0][neg_index[30:40]].view(-1), batch[0][pos_index[0]], batch[0][neg_index[40:50]].view(-1)], dim=0).unsqueeze(0)\n",
        "x = melspec_val(x.to(StreamingConfig.device))"
      ],
      "execution_count": null,
      "outputs": []
    },
    {
      "cell_type": "code",
      "metadata": {
        "id": "O01JI1cwE5db"
      },
      "source": [
        "model.eval()\n",
        "model.reset()\n",
        "probs = []\n",
        "step_size = 20\n",
        "with torch.no_grad():\n",
        "    for i in range(0, x.size(2), step_size):\n",
        "        logits = model(x[:, :, i:i+step_size])\n",
        "        probs.append(F.softmax(logits, dim=1)[0, 1].item())"
      ],
      "execution_count": null,
      "outputs": []
    },
    {
      "cell_type": "code",
      "metadata": {
        "id": "pV9o7tavksMx"
      },
      "source": [
        "def moving_average(x, w):\n",
        "    return np.convolve(x, np.ones(w), 'valid') / w"
      ],
      "execution_count": null,
      "outputs": []
    },
    {
      "cell_type": "code",
      "metadata": {
        "id": "9lHHl2QdNCf-"
      },
      "source": [
        "import matplotlib.pyplot as plt"
      ],
      "execution_count": null,
      "outputs": []
    },
    {
      "cell_type": "code",
      "metadata": {
        "colab": {
          "base_uri": "https://localhost:8080/",
          "height": 295
        },
        "id": "UGf_MiQRNG_4",
        "outputId": "f08e435e-5e8a-4942-bc09-35c7305facaa"
      },
      "source": [
        "smoothed_probs = moving_average(probs, 3)\n",
        "plt.title('Probability of keyword')\n",
        "plt.xlabel('step')\n",
        "plt.ylabel('prob')\n",
        "plt.plot(np.arange(len(smoothed_probs)), smoothed_probs)\n",
        "plt.show()"
      ],
      "execution_count": null,
      "outputs": [
        {
          "output_type": "display_data",
          "data": {
            "image/png": "[encoded data removed]",
            "text/plain": [
              "<Figure size 432x288 with 1 Axes>"
            ]
          },
          "metadata": {
            "needs_background": "light"
          }
        }
      ]
    },
    {
      "cell_type": "markdown",
      "metadata": {
        "id": "OBa86ZdZprqA"
      },
      "source": [
        "## Optimizing"
      ]
    },
    {
      "cell_type": "code",
      "metadata": {
        "colab": {
          "base_uri": "https://localhost:8080/"
        },
        "id": "B_VXdUWdRhiY",
        "outputId": "ee6c7f40-1817-45eb-c2d4-b891ce061d34"
      },
      "source": [
        "!pip install thop"
      ],
      "execution_count": 25,
      "outputs": [
        {
          "output_type": "stream",
          "name": "stdout",
          "text": [
            "Collecting thop\n",
            "  Downloading thop-0.0.31.post2005241907-py3-none-any.whl (8.7 kB)\n",
            "Requirement already satisfied: torch>=1.0.0 in /usr/local/lib/python3.7/dist-packages (from thop) (1.9.1)\n",
            "Requirement already satisfied: typing-extensions in /usr/local/lib/python3.7/dist-packages (from torch>=1.0.0->thop) (3.10.0.2)\n",
            "Installing collected packages: thop\n",
            "Successfully installed thop-0.0.31.post2005241907\n"
          ]
        }
      ]
    },
    {
      "cell_type": "code",
      "metadata": {
        "id": "4fiVswq4nsxy"
      },
      "source": [
        "@dataclasses.dataclass\n",
        "class TaskConfigCpu:\n",
        "    keyword: str = 'sheila'  # We will use 1 key word -- 'sheila'\n",
        "    batch_size: int = 128\n",
        "    learning_rate: float = 3e-4\n",
        "    weight_decay: float = 1e-5\n",
        "    num_epochs: int = 20\n",
        "    n_mels: int = 40\n",
        "    cnn_out_channels: int = 8\n",
        "    kernel_size: Tuple[int, int] = (5, 20)\n",
        "    stride: Tuple[int, int] = (2, 8)\n",
        "    hidden_size: int = 64\n",
        "    gru_num_layers: int = 2\n",
        "    gru_dropout: float = 0.1\n",
        "    bidirectional: bool = False\n",
        "    num_classes: int = 2\n",
        "    sample_rate: int = 16000\n",
        "    device: torch.device = 'cpu'"
      ],
      "execution_count": 23,
      "outputs": []
    },
    {
      "cell_type": "code",
      "metadata": {
        "id": "ciEw-VGOpxuB"
      },
      "source": [
        "from thop import profile\n",
        "from os.path import getsize\n",
        "from os import remove\n",
        "\n",
        "BASELINE_MACS = 119527424\n",
        "BASELINE_SIZE = 0.27299976348876953\n",
        "BASELINE_METRIC = 5e-5\n",
        "\n",
        "def get_size_in_megabytes(model):\n",
        "    torch.save(model.state_dict(), 'temp.p')\n",
        "    size = getsize('temp.p') / 2**20\n",
        "    remove('temp.p')\n",
        "    return size\n",
        "\n",
        "def get_report(model):\n",
        "    melspec_val = LogMelspec(is_train=False, config=TaskConfigCpu)\n",
        "    au_fa_fr = validation(model, val_loader,\n",
        "                              melspec_val, 'cpu')\n",
        "    size = get_size_in_megabytes(model)\n",
        "    inp = torch.randn(128, 40, 101)\n",
        "    macs, flops = profile(model, (inp,))\n",
        "    \n",
        "    print('AU_fa_fr:', au_fa_fr)\n",
        "    print('Size:', size)\n",
        "    print('MACS, FLOPS:', macs, flops)\n",
        "\n",
        "    print('Metric ratio (baseline/model):', BASELINE_METRIC / au_fa_fr)\n",
        "    print('Size ratio (baseline/model):', BASELINE_SIZE / size)\n",
        "    print('MACs ratio (baseline/model):', BASELINE_MACS / macs)\n",
        "\n",
        "    return au_fa_fr, size, macs, flops"
      ],
      "execution_count": 24,
      "outputs": []
    },
    {
      "cell_type": "code",
      "metadata": {
        "colab": {
          "base_uri": "https://localhost:8080/"
        },
        "id": "s9Zc366psrZd",
        "outputId": "5932738b-5614-4cd9-b07d-e21f2853a12d"
      },
      "source": [
        "config = TaskConfig()\n",
        "model = CRNN(config).to(config.device)\n",
        "model.load_state_dict(torch.load('baseline.pt'))"
      ],
      "execution_count": 25,
      "outputs": [
        {
          "output_type": "execute_result",
          "data": {
            "text/plain": [
              "<All keys matched successfully>"
            ]
          },
          "metadata": {},
          "execution_count": 25
        }
      ]
    },
    {
      "cell_type": "code",
      "metadata": {
        "colab": {
          "base_uri": "https://localhost:8080/"
        },
        "id": "KJb-v_kBRPb6",
        "outputId": "3375f8a9-5625-415b-ad5e-9ecf219ec60f"
      },
      "source": [
        "baseline_auc, baseline_size, baseline_macs, baseline_flops = get_report(model.cpu())"
      ],
      "execution_count": 26,
      "outputs": [
        {
          "output_type": "stream",
          "name": "stderr",
          "text": [
            "102it [00:09, 10.39it/s]\n"
          ]
        },
        {
          "output_type": "stream",
          "name": "stdout",
          "text": [
            "[INFO] Register count_convNd() for <class 'torch.nn.modules.conv.Conv2d'>.\n",
            "\u001b[91m[WARN] Cannot find rule for <class 'torch.nn.modules.flatten.Flatten'>. Treat it as zero Macs and zero Params.\u001b[00m\n",
            "\u001b[91m[WARN] Cannot find rule for <class 'torch.nn.modules.container.Sequential'>. Treat it as zero Macs and zero Params.\u001b[00m\n",
            "[INFO] Register count_gru() for <class 'torch.nn.modules.rnn.GRU'>.\n",
            "[INFO] Register count_linear() for <class 'torch.nn.modules.linear.Linear'>.\n",
            "\u001b[91m[WARN] Cannot find rule for <class 'torch.nn.modules.activation.Tanh'>. Treat it as zero Macs and zero Params.\u001b[00m\n",
            "\u001b[91m[WARN] Cannot find rule for <class '__main__.Attention'>. Treat it as zero Macs and zero Params.\u001b[00m\n",
            "\u001b[91m[WARN] Cannot find rule for <class '__main__.CRNN'>. Treat it as zero Macs and zero Params.\u001b[00m\n",
            "AU_fa_fr: 2.9324528813632145e-05\n",
            "Size: 0.27299976348876953\n",
            "MACS, FLOPS: 119527424.0 70443.0\n",
            "Metric ratio (baseline/model): 1.7050572344322346\n",
            "Size ratio (baseline/model): 1.0\n",
            "MACs ratio (baseline/model): 1.0\n"
          ]
        }
      ]
    },
    {
      "cell_type": "markdown",
      "metadata": {
        "id": "YBev7-EIz45e"
      },
      "source": [
        "Но всё равно используем бейзлайн 5e-5 из условия.\n",
        "\n",
        "![image.png](data:image/png;base64,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)"
      ]
    },
    {
      "cell_type": "markdown",
      "metadata": {
        "id": "eP3kv_tGIL0y"
      },
      "source": [
        "## Quantilization"
      ]
    },
    {
      "cell_type": "code",
      "metadata": {
        "id": "R_6QBhKzVD9j"
      },
      "source": [
        "quantized_model = torch.quantization.quantize_dynamic(\n",
        "    model.cpu(), {nn.GRU, nn.Linear}, dtype=torch.qint8\n",
        ")"
      ],
      "execution_count": 64,
      "outputs": []
    },
    {
      "cell_type": "code",
      "metadata": {
        "colab": {
          "base_uri": "https://localhost:8080/"
        },
        "id": "bc_WtXjUox30",
        "outputId": "b65b2614-f728-4890-f320-fb83b62f52e0"
      },
      "source": [
        "quantized_auc, quantized_size, quantized_macs, quantized_flops = get_report(quantized_model)"
      ],
      "execution_count": null,
      "outputs": [
        {
          "output_type": "stream",
          "name": "stderr",
          "text": [
            "102it [00:09, 10.74it/s]\n"
          ]
        },
        {
          "output_type": "stream",
          "name": "stdout",
          "text": [
            "[INFO] Register count_convNd() for <class 'torch.nn.modules.conv.Conv2d'>.\n",
            "\u001b[91m[WARN] Cannot find rule for <class 'torch.nn.modules.flatten.Flatten'>. Treat it as zero Macs and zero Params.\u001b[00m\n",
            "\u001b[91m[WARN] Cannot find rule for <class 'torch.nn.modules.container.Sequential'>. Treat it as zero Macs and zero Params.\u001b[00m\n",
            "\u001b[91m[WARN] Cannot find rule for <class 'torch.nn.quantized.dynamic.modules.rnn.PackedParameter'>. Treat it as zero Macs and zero Params.\u001b[00m\n",
            "\u001b[91m[WARN] Cannot find rule for <class 'torch.nn.modules.container.ModuleList'>. Treat it as zero Macs and zero Params.\u001b[00m\n",
            "\u001b[91m[WARN] Cannot find rule for <class 'torch.nn.quantized.dynamic.modules.rnn.GRU'>. Treat it as zero Macs and zero Params.\u001b[00m\n",
            "\u001b[91m[WARN] Cannot find rule for <class 'torch.nn.quantized.modules.linear.LinearPackedParams'>. Treat it as zero Macs and zero Params.\u001b[00m\n",
            "\u001b[91m[WARN] Cannot find rule for <class 'torch.nn.quantized.dynamic.modules.linear.Linear'>. Treat it as zero Macs and zero Params.\u001b[00m\n",
            "\u001b[91m[WARN] Cannot find rule for <class 'torch.nn.modules.activation.Tanh'>. Treat it as zero Macs and zero Params.\u001b[00m\n",
            "\u001b[91m[WARN] Cannot find rule for <class '__main__.Attention'>. Treat it as zero Macs and zero Params.\u001b[00m\n",
            "\u001b[91m[WARN] Cannot find rule for <class '__main__.CRNN'>. Treat it as zero Macs and zero Params.\u001b[00m\n",
            "AU_fa_fr: 2.88172872692368e-05\n",
            "Size: 0.0823965072631836\n",
            "MACS, FLOPS: 20477952.0 808.0\n",
            "Metric ratio (baseline/model): 1.7350696313936635\n",
            "Size ratio (baseline/model): 3.313244366254239\n",
            "MACs ratio (baseline/model): 5.836883688368837\n"
          ]
        }
      ]
    },
    {
      "cell_type": "markdown",
      "metadata": {
        "id": "jH7N_RCS1-sc"
      },
      "source": [
        "MACs при квантизации считается неправильно, так что смотрим только на размер и метрику."
      ]
    },
    {
      "cell_type": "markdown",
      "metadata": {
        "id": "NGAjccK2If65"
      },
      "source": [
        "# Pruning"
      ]
    },
    {
      "cell_type": "code",
      "metadata": {
        "id": "UYWzkl1BbB2k"
      },
      "source": [
        "import torch.nn.utils.prune as prune"
      ],
      "execution_count": null,
      "outputs": []
    },
    {
      "cell_type": "code",
      "metadata": {
        "id": "-BASAzf5pXNu"
      },
      "source": [
        "def iterative_pruning(model, opt, scheduler, melspec_train, train_loader, config):\n",
        "\n",
        "    prune_rate_per_epoch = 1 - (1 - config.prune_rate)**(1/config.num_epochs)\n",
        "    for n in range(config.num_epochs):\n",
        "        prune.l1_unstructured(model.gru, name='weight_hh_l1', amount=prune_rate_per_epoch)\n",
        "        prune.l1_unstructured(model.gru, name='weight_ih_l1', amount=prune_rate_per_epoch)\n",
        "        prune.l1_unstructured(model.gru, name='bias_hh_l1', amount=prune_rate_per_epoch)\n",
        "        prune.l1_unstructured(model.gru, name='bias_ih_l1', amount=prune_rate_per_epoch)\n",
        "        model.train()\n",
        "        # train_epoch(model, opt, train_loader, melspec_train, config.device)\n",
        "        for i, (batch, labels) in tqdm(enumerate(train_loader), total=len(train_loader)):\n",
        "            batch, labels = batch.to(config.device), labels.to(config.device)\n",
        "            batch = melspec_train(batch)\n",
        "\n",
        "            opt.zero_grad()\n",
        "\n",
        "            # run model # with autocast():\n",
        "            logits = model(batch)\n",
        "            # we need probabilities so we use softmax & CE separately\n",
        "            probs = F.softmax(logits, dim=-1)\n",
        "            loss = F.cross_entropy(logits, labels)\n",
        "\n",
        "            loss.backward()\n",
        "            torch.nn.utils.clip_grad_norm_(model.parameters(), 5)\n",
        "\n",
        "            opt.step()\n",
        "\n",
        "            if scheduler is not None:\n",
        "                scheduler.step()\n",
        "\n",
        "            # logging\n",
        "            argmax_probs = torch.argmax(probs, dim=-1)\n",
        "            FA, FR = count_FA_FR(argmax_probs, labels)\n",
        "            acc = torch.sum(argmax_probs == labels) / torch.numel(argmax_probs)\n",
        "\n",
        "        au_fa_fr = validation(model, val_loader,\n",
        "                            melspec_val, config.device)\n",
        "        history['val_metric'].append(au_fa_fr)\n",
        "\n",
        "        clear_output()\n",
        "        plt.plot(history['val_metric'])\n",
        "        plt.ylabel('Metric')\n",
        "        plt.xlabel('Epoch')\n",
        "        plt.grid()\n",
        "        plt.show()\n",
        "\n",
        "        print('END OF EPOCH', n)"
      ],
      "execution_count": null,
      "outputs": []
    },
    {
      "cell_type": "code",
      "metadata": {
        "id": "5KyxnkKHiNxL"
      },
      "source": [
        "@dataclasses.dataclass\n",
        "class PruningConfig:\n",
        "    keyword: str = 'sheila'\n",
        "    batch_size: int = 128\n",
        "    learning_rate: float = 3e-4\n",
        "    weight_decay: float = 1e-5\n",
        "    num_epochs: int = 25\n",
        "    n_mels: int = 40\n",
        "    cnn_out_channels: int = 3\n",
        "    kernel_size: Tuple[int, int] = (5, 20)\n",
        "    stride: Tuple[int, int] = (2, 8)\n",
        "    hidden_size: int = 64\n",
        "    prune_rate: float = 0.999999\n",
        "    gru_num_layers: int = 2\n",
        "    gru_dropout: float = 0\n",
        "    bidirectional: bool = False\n",
        "    num_classes: int = 2\n",
        "    sample_rate: int = 16000\n",
        "    device: torch.device = torch.device(\n",
        "        'cuda:0' if torch.cuda.is_available() else 'cpu')"
      ],
      "execution_count": null,
      "outputs": []
    },
    {
      "cell_type": "code",
      "metadata": {
        "id": "pajjkC8DbC0A"
      },
      "source": [
        "seed(24)\n",
        "history = defaultdict(list)\n",
        "config = PruningConfig()\n",
        "model = CRNN(config).to(config.device)\n",
        "# model.load_state_dict(torch.load('/content/drive/My Drive/dla_hw2/baseline.pt'))\n",
        "opt = torch.optim.Adam(\n",
        "    model.parameters(),\n",
        "    lr=config.learning_rate,\n",
        "    weight_decay=config.weight_decay\n",
        ")"
      ],
      "execution_count": null,
      "outputs": []
    },
    {
      "cell_type": "code",
      "metadata": {
        "id": "yIu7FNVriTX9"
      },
      "source": [
        "iterative_pruning(model, opt, None, melspec_train, train_loader, config)"
      ],
      "execution_count": null,
      "outputs": []
    },
    {
      "cell_type": "code",
      "metadata": {
        "id": "l1OZfQFHoCyV"
      },
      "source": [
        "get_report(model.cpu())"
      ],
      "execution_count": null,
      "outputs": []
    },
    {
      "cell_type": "code",
      "metadata": {
        "id": "CQCILHmUY5GV"
      },
      "source": [
        "state = model.state_dict()\n",
        "del state['gru.weight_hh_l1']\n",
        "del state['gru.weight_ih_l1']\n",
        "del state['gru.bias_hh_l1']\n",
        "del state['gru.bias_ih_l1']"
      ],
      "execution_count": null,
      "outputs": []
    },
    {
      "cell_type": "code",
      "metadata": {
        "id": "3Ow7W9QXZHkf"
      },
      "source": [
        "torch.save(state, 'pruned.pt')"
      ],
      "execution_count": null,
      "outputs": []
    },
    {
      "cell_type": "code",
      "metadata": {
        "id": "4GLJOqugfyKa"
      },
      "source": [
        "@dataclasses.dataclass\n",
        "class PrunedConfig:\n",
        "    keyword: str = 'sheila'\n",
        "    batch_size: int = 128\n",
        "    learning_rate: float = 3e-4\n",
        "    weight_decay: float = 1e-5\n",
        "    num_epochs: int = 25\n",
        "    n_mels: int = 40\n",
        "    cnn_out_channels: int = 8\n",
        "    kernel_size: Tuple[int, int] = (5, 20)\n",
        "    stride: Tuple[int, int] = (2, 8)\n",
        "    hidden_size: int = 64\n",
        "    prune_rate: float = 0.99\n",
        "    gru_num_layers: int = 1\n",
        "    gru_dropout: float = 0\n",
        "    bidirectional: bool = False\n",
        "    num_classes: int = 2\n",
        "    sample_rate: int = 16000\n",
        "    device: torch.device = torch.device(\n",
        "        'cuda:0' if torch.cuda.is_available() else 'cpu')"
      ],
      "execution_count": null,
      "outputs": []
    },
    {
      "cell_type": "code",
      "metadata": {
        "id": "NBluplnqf7cu"
      },
      "source": [
        "config = PrunedConfig()\n",
        "model = CRNN(config).to(config.device)"
      ],
      "execution_count": null,
      "outputs": []
    },
    {
      "cell_type": "code",
      "metadata": {
        "colab": {
          "base_uri": "https://localhost:8080/"
        },
        "id": "2e-jLmFMf9Jc",
        "outputId": "77b85534-bedf-4b6e-bb27-dfc376b38f49"
      },
      "source": [
        "model.load_state_dict(torch.load('pruned.pt'))"
      ],
      "execution_count": null,
      "outputs": [
        {
          "output_type": "execute_result",
          "data": {
            "text/plain": [
              "<All keys matched successfully>"
            ]
          },
          "metadata": {},
          "execution_count": 66
        }
      ]
    },
    {
      "cell_type": "code",
      "metadata": {
        "colab": {
          "base_uri": "https://localhost:8080/"
        },
        "id": "RhyUc7ThgAMC",
        "outputId": "f02ba4a6-a808-4c49-bf21-67b623876301"
      },
      "source": [
        "get_report(model.cpu())"
      ],
      "execution_count": null,
      "outputs": [
        {
          "output_type": "stream",
          "name": "stderr",
          "text": [
            "102it [00:09, 10.75it/s]\n"
          ]
        },
        {
          "output_type": "stream",
          "name": "stdout",
          "text": [
            "[INFO] Register count_convNd() for <class 'torch.nn.modules.conv.Conv2d'>.\n",
            "\u001b[91m[WARN] Cannot find rule for <class 'torch.nn.modules.flatten.Flatten'>. Treat it as zero Macs and zero Params.\u001b[00m\n",
            "\u001b[91m[WARN] Cannot find rule for <class 'torch.nn.modules.container.Sequential'>. Treat it as zero Macs and zero Params.\u001b[00m\n",
            "[INFO] Register count_gru() for <class 'torch.nn.modules.rnn.GRU'>.\n",
            "[INFO] Register count_linear() for <class 'torch.nn.modules.linear.Linear'>.\n",
            "\u001b[91m[WARN] Cannot find rule for <class 'torch.nn.modules.activation.Tanh'>. Treat it as zero Macs and zero Params.\u001b[00m\n",
            "\u001b[91m[WARN] Cannot find rule for <class '__main__.Attention'>. Treat it as zero Macs and zero Params.\u001b[00m\n",
            "\u001b[91m[WARN] Cannot find rule for <class '__main__.CRNN'>. Treat it as zero Macs and zero Params.\u001b[00m\n",
            "AU_fa_fr: 0.01316755486152977\n",
            "Size: 0.1768198013305664\n",
            "MACS, FLOPS: 83752960.0 45483.0\n"
          ]
        },
        {
          "output_type": "execute_result",
          "data": {
            "text/plain": [
              "(0.01316755486152977, 0.1768198013305664, 83752960.0, 45483.0)"
            ]
          },
          "metadata": {},
          "execution_count": 67
        }
      ]
    },
    {
      "cell_type": "markdown",
      "metadata": {
        "id": "7_iiAEtTIlKN"
      },
      "source": [
        "# Distillation"
      ]
    },
    {
      "cell_type": "code",
      "metadata": {
        "id": "07A_ubiqj43t"
      },
      "source": [
        "def distil_loss(t_logits, s_logits, labels, temperature, alpha):\n",
        "    t_probs = F.softmax(t_logits / temperature, dim=1)\n",
        "    s_logprobs = F.log_softmax(s_logits / temperature, dim=1)\n",
        "    distil_reg = temperature**2 * -(t_probs * s_logprobs).sum(dim=1).mean() # F.kl_div(s_logprobs, t_probs, reduction='batchmean')\n",
        "    student_loss = F.cross_entropy(s_logits, labels)\n",
        "\n",
        "    return alpha * distil_reg + (1 - alpha) * student_loss\n",
        "\n",
        "\n",
        "def train_with_teacher(teacher, student, opt, temperature, alpha,\n",
        "                       loader, log_melspec, device):\n",
        "    teacher.eval()\n",
        "    student.train()\n",
        "    for i, (batch, labels) in tqdm(enumerate(loader), total=len(loader)):\n",
        "        batch, labels = batch.to(device), labels.to(device)\n",
        "        batch = log_melspec(batch)\n",
        "\n",
        "        opt.zero_grad()\n",
        "\n",
        "        with torch.no_grad():\n",
        "            t_logits = teacher(batch)\n",
        "\n",
        "        s_logits = student(batch)\n",
        "        loss = distil_loss(t_logits, s_logits, labels, temperature, alpha)\n",
        "\n",
        "        loss.backward()\n",
        "        torch.nn.utils.clip_grad_norm_(student.parameters(), 5)\n",
        "\n",
        "        opt.step()\n",
        "        # logging\n",
        "        argmax_probs = torch.argmax(s_logits, dim=-1)\n",
        "        FA, FR = count_FA_FR(argmax_probs, labels)\n",
        "        acc = torch.sum(argmax_probs == labels) / torch.numel(argmax_probs)\n",
        "\n",
        "    return acc"
      ],
      "execution_count": 40,
      "outputs": []
    },
    {
      "cell_type": "code",
      "metadata": {
        "id": "VHpX1s5HkPwf"
      },
      "source": [
        "@dataclasses.dataclass\n",
        "class StudentConfig:\n",
        "    keyword: str = 'sheila'\n",
        "    batch_size: int = 128\n",
        "    learning_rate: float = 1e-3\n",
        "    weight_decay: float = 1e-7\n",
        "    num_epochs: int = 25\n",
        "    n_mels: int = 40\n",
        "    cnn_out_channels: int = 3\n",
        "    kernel_size: Tuple[int, int] = (5, 20)\n",
        "    stride: Tuple[int, int] = (2, 14)\n",
        "    hidden_size: int = 32\n",
        "    gru_num_layers: int = 1\n",
        "    gru_dropout: float = 0\n",
        "    bidirectional: bool = False\n",
        "    num_classes: int = 2\n",
        "    sample_rate: int = 16000\n",
        "    device: torch.device = torch.device(\n",
        "        'cuda:0' if torch.cuda.is_available() else 'cpu')"
      ],
      "execution_count": 56,
      "outputs": []
    },
    {
      "cell_type": "code",
      "metadata": {
        "id": "_aRS1fgIke-L"
      },
      "source": [
        "seed(42)\n",
        "history = defaultdict(list)\n",
        "teacher_config = TaskConfig()\n",
        "teacher = CRNN(teacher_config).to(teacher_config.device)\n",
        "teacher.load_state_dict(torch.load('baseline.pt'))\n",
        "\n",
        "student_config = StudentConfig()\n",
        "student = CRNN(student_config).to(student_config.device)\n",
        "opt = torch.optim.Adam(\n",
        "    student.parameters(),\n",
        "    lr=student_config.learning_rate,\n",
        "    weight_decay=student_config.weight_decay\n",
        ")\n",
        "\n",
        "scheduler = torch.optim.lr_scheduler.CosineAnnealingLR(opt, student_config.num_epochs)"
      ],
      "execution_count": 57,
      "outputs": []
    },
    {
      "cell_type": "code",
      "metadata": {
        "colab": {
          "base_uri": "https://localhost:8080/",
          "height": 296
        },
        "id": "m9TIxoCJoWOE",
        "outputId": "42ab6a27-368f-497f-cd58-b6548de7b20b"
      },
      "source": [
        "for n in range(student_config.num_epochs):\n",
        "\n",
        "    train_with_teacher(teacher, student, opt, 5, 0.8, train_loader, melspec_train, student_config.device)\n",
        "    scheduler.step()\n",
        "    au_fa_fr = validation(student, val_loader,\n",
        "                          melspec_val, config.device)\n",
        "    history['val_metric'].append(au_fa_fr)\n",
        "\n",
        "    clear_output()\n",
        "    plt.plot(history['val_metric'])\n",
        "    plt.ylabel('Metric')\n",
        "    plt.xlabel('Epoch')\n",
        "    plt.grid()\n",
        "    plt.show()\n",
        "\n",
        "    print('END OF EPOCH', n)"
      ],
      "execution_count": 58,
      "outputs": [
        {
          "output_type": "display_data",
          "data": {
            "image/png": "[encoded data removed]",
            "text/plain": [
              "<Figure size 432x288 with 1 Axes>"
            ]
          },
          "metadata": {
            "needs_background": "light"
          }
        },
        {
          "output_type": "stream",
          "name": "stdout",
          "text": [
            "END OF EPOCH 24\n"
          ]
        }
      ]
    },
    {
      "cell_type": "code",
      "metadata": {
        "id": "D_RqJgoB_I-V"
      },
      "source": [
        "torch.save(student.state_dict(), 'distillated.pt')"
      ],
      "execution_count": 60,
      "outputs": []
    },
    {
      "cell_type": "code",
      "metadata": {
        "colab": {
          "base_uri": "https://localhost:8080/"
        },
        "id": "pI5NesPCo2Dd",
        "outputId": "3f36192d-26a8-4d3f-95c4-370a941bf6e0"
      },
      "source": [
        "student_auc, student_size, student_macs, student_flops = get_report(student.cpu())"
      ],
      "execution_count": 141,
      "outputs": [
        {
          "output_type": "stream",
          "name": "stderr",
          "text": [
            "102it [00:08, 11.40it/s]\n"
          ]
        },
        {
          "output_type": "stream",
          "name": "stdout",
          "text": [
            "[INFO] Register count_convNd() for <class 'torch.nn.modules.conv.Conv2d'>.\n",
            "\u001b[91m[WARN] Cannot find rule for <class 'torch.nn.modules.flatten.Flatten'>. Treat it as zero Macs and zero Params.\u001b[00m\n",
            "\u001b[91m[WARN] Cannot find rule for <class 'torch.nn.modules.container.Sequential'>. Treat it as zero Macs and zero Params.\u001b[00m\n",
            "[INFO] Register count_gru() for <class 'torch.nn.modules.rnn.GRU'>.\n",
            "[INFO] Register count_linear() for <class 'torch.nn.modules.linear.Linear'>.\n",
            "\u001b[91m[WARN] Cannot find rule for <class 'torch.nn.modules.activation.Tanh'>. Treat it as zero Macs and zero Params.\u001b[00m\n",
            "\u001b[91m[WARN] Cannot find rule for <class '__main__.Attention'>. Treat it as zero Macs and zero Params.\u001b[00m\n",
            "\u001b[91m[WARN] Cannot find rule for <class '__main__.CRNN'>. Treat it as zero Macs and zero Params.\u001b[00m\n",
            "AU_fa_fr: 5.334390782764708e-05\n",
            "Size: 0.04452228546142578\n",
            "MACS, FLOPS: 11667968.0 9906.0\n",
            "Metric ratio (baseline/model): 0.9373141570645487\n",
            "Size ratio (baseline/model): 6.131755381814287\n",
            "MACs ratio (baseline/model): 10.244065119136426\n"
          ]
        }
      ]
    },
    {
      "cell_type": "code",
      "metadata": {
        "id": "hLcVxEIpXvUh"
      },
      "source": [
        "quantized_student = torch.quantization.quantize_dynamic(\n",
        "    student.cpu(), {nn.GRU, nn.Linear}, dtype=torch.qint8\n",
        ")"
      ],
      "execution_count": 142,
      "outputs": []
    },
    {
      "cell_type": "code",
      "metadata": {
        "colab": {
          "base_uri": "https://localhost:8080/"
        },
        "id": "Q4BEDJU9wR5F",
        "outputId": "f203c0e2-ad56-4251-900f-95229ab0e846"
      },
      "source": [
        "qstudent_auc, qstudent_size, qstudent_macs, qstudent_flops = get_report(quantized_student.cpu())"
      ],
      "execution_count": 143,
      "outputs": [
        {
          "output_type": "stream",
          "name": "stderr",
          "text": [
            "102it [00:08, 11.56it/s]\n"
          ]
        },
        {
          "output_type": "stream",
          "name": "stdout",
          "text": [
            "[INFO] Register count_convNd() for <class 'torch.nn.modules.conv.Conv2d'>.\n",
            "\u001b[91m[WARN] Cannot find rule for <class 'torch.nn.modules.flatten.Flatten'>. Treat it as zero Macs and zero Params.\u001b[00m\n",
            "\u001b[91m[WARN] Cannot find rule for <class 'torch.nn.modules.container.Sequential'>. Treat it as zero Macs and zero Params.\u001b[00m\n",
            "\u001b[91m[WARN] Cannot find rule for <class 'torch.nn.quantized.dynamic.modules.rnn.PackedParameter'>. Treat it as zero Macs and zero Params.\u001b[00m\n",
            "\u001b[91m[WARN] Cannot find rule for <class 'torch.nn.modules.container.ModuleList'>. Treat it as zero Macs and zero Params.\u001b[00m\n",
            "\u001b[91m[WARN] Cannot find rule for <class 'torch.nn.quantized.dynamic.modules.rnn.GRU'>. Treat it as zero Macs and zero Params.\u001b[00m\n",
            "\u001b[91m[WARN] Cannot find rule for <class 'torch.nn.quantized.modules.linear.LinearPackedParams'>. Treat it as zero Macs and zero Params.\u001b[00m\n",
            "\u001b[91m[WARN] Cannot find rule for <class 'torch.nn.quantized.dynamic.modules.linear.Linear'>. Treat it as zero Macs and zero Params.\u001b[00m\n",
            "\u001b[91m[WARN] Cannot find rule for <class 'torch.nn.modules.activation.Tanh'>. Treat it as zero Macs and zero Params.\u001b[00m\n",
            "\u001b[91m[WARN] Cannot find rule for <class '__main__.Attention'>. Treat it as zero Macs and zero Params.\u001b[00m\n",
            "\u001b[91m[WARN] Cannot find rule for <class '__main__.CRNN'>. Treat it as zero Macs and zero Params.\u001b[00m\n",
            "AU_fa_fr: 5.521175022053818e-05\n",
            "Size: 0.02003002166748047\n",
            "MACS, FLOPS: 4188672.0 303.0\n",
            "Metric ratio (baseline/model): 0.9056043287937743\n",
            "Size ratio (baseline/model): 13.62952911488835\n",
            "MACs ratio (baseline/model): 28.5358758098032\n"
          ]
        }
      ]
    },
    {
      "cell_type": "markdown",
      "metadata": {
        "id": "jM0HCS_N2uuC"
      },
      "source": [
        "MACs при квантизации считается неправильно, так что опять же смотрим только на размер и метрику"
      ]
    },
    {
      "cell_type": "markdown",
      "metadata": {
        "id": "xAxObst_TLX1"
      },
      "source": [
        "# Результаты"
      ]
    },
    {
      "cell_type": "code",
      "metadata": {
        "id": "g4VQACuXJvtV",
        "colab": {
          "base_uri": "https://localhost:8080/"
        },
        "outputId": "2f7450a0-c345-4542-a011-c5e4d207640a"
      },
      "source": [
        "baseline_auc, baseline_size, baseline_macs, baseline_flops = get_report(model.cpu())\n",
        "quantized_auc, quantized_size, quantized_macs, quantized_flops = get_report(quantized_model)\n",
        "student_auc, student_size, student_macs, student_flops = get_report(student.cpu())"
      ],
      "execution_count": 144,
      "outputs": [
        {
          "output_type": "stream",
          "name": "stderr",
          "text": [
            "102it [00:09, 10.99it/s]\n"
          ]
        },
        {
          "output_type": "stream",
          "name": "stdout",
          "text": [
            "[INFO] Register count_convNd() for <class 'torch.nn.modules.conv.Conv2d'>.\n",
            "\u001b[91m[WARN] Cannot find rule for <class 'torch.nn.modules.flatten.Flatten'>. Treat it as zero Macs and zero Params.\u001b[00m\n",
            "\u001b[91m[WARN] Cannot find rule for <class 'torch.nn.modules.container.Sequential'>. Treat it as zero Macs and zero Params.\u001b[00m\n",
            "[INFO] Register count_gru() for <class 'torch.nn.modules.rnn.GRU'>.\n",
            "[INFO] Register count_linear() for <class 'torch.nn.modules.linear.Linear'>.\n",
            "\u001b[91m[WARN] Cannot find rule for <class 'torch.nn.modules.activation.Tanh'>. Treat it as zero Macs and zero Params.\u001b[00m\n",
            "\u001b[91m[WARN] Cannot find rule for <class '__main__.Attention'>. Treat it as zero Macs and zero Params.\u001b[00m\n",
            "\u001b[91m[WARN] Cannot find rule for <class '__main__.CRNN'>. Treat it as zero Macs and zero Params.\u001b[00m\n",
            "AU_fa_fr: 2.9324528813632145e-05\n",
            "Size: 0.2764444351196289\n",
            "MACS, FLOPS: 119527424.0 70443.0\n",
            "Metric ratio (baseline/model): 1.7050572344322346\n",
            "Size ratio (baseline/model): 0.9875393706899228\n",
            "MACs ratio (baseline/model): 1.0\n"
          ]
        },
        {
          "output_type": "stream",
          "name": "stderr",
          "text": [
            "102it [00:09, 10.88it/s]\n"
          ]
        },
        {
          "output_type": "stream",
          "name": "stdout",
          "text": [
            "[INFO] Register count_convNd() for <class 'torch.nn.modules.conv.Conv2d'>.\n",
            "\u001b[91m[WARN] Cannot find rule for <class 'torch.nn.modules.flatten.Flatten'>. Treat it as zero Macs and zero Params.\u001b[00m\n",
            "\u001b[91m[WARN] Cannot find rule for <class 'torch.nn.modules.container.Sequential'>. Treat it as zero Macs and zero Params.\u001b[00m\n",
            "\u001b[91m[WARN] Cannot find rule for <class 'torch.nn.quantized.dynamic.modules.rnn.PackedParameter'>. Treat it as zero Macs and zero Params.\u001b[00m\n",
            "\u001b[91m[WARN] Cannot find rule for <class 'torch.nn.modules.container.ModuleList'>. Treat it as zero Macs and zero Params.\u001b[00m\n",
            "\u001b[91m[WARN] Cannot find rule for <class 'torch.nn.quantized.dynamic.modules.rnn.GRU'>. Treat it as zero Macs and zero Params.\u001b[00m\n",
            "\u001b[91m[WARN] Cannot find rule for <class 'torch.nn.quantized.modules.linear.LinearPackedParams'>. Treat it as zero Macs and zero Params.\u001b[00m\n",
            "\u001b[91m[WARN] Cannot find rule for <class 'torch.nn.quantized.dynamic.modules.linear.Linear'>. Treat it as zero Macs and zero Params.\u001b[00m\n",
            "\u001b[91m[WARN] Cannot find rule for <class 'torch.nn.modules.activation.Tanh'>. Treat it as zero Macs and zero Params.\u001b[00m\n",
            "\u001b[91m[WARN] Cannot find rule for <class '__main__.Attention'>. Treat it as zero Macs and zero Params.\u001b[00m\n",
            "\u001b[91m[WARN] Cannot find rule for <class '__main__.CRNN'>. Treat it as zero Macs and zero Params.\u001b[00m\n",
            "AU_fa_fr: 2.88172872692368e-05\n",
            "Size: 0.08832073211669922\n",
            "MACS, FLOPS: 20477952.0 808.0\n",
            "Metric ratio (baseline/model): 1.7350696313936635\n",
            "Size ratio (baseline/model): 3.0910043083435013\n",
            "MACs ratio (baseline/model): 5.836883688368837\n"
          ]
        },
        {
          "output_type": "stream",
          "name": "stderr",
          "text": [
            "102it [00:08, 11.58it/s]\n"
          ]
        },
        {
          "output_type": "stream",
          "name": "stdout",
          "text": [
            "[INFO] Register count_convNd() for <class 'torch.nn.modules.conv.Conv2d'>.\n",
            "\u001b[91m[WARN] Cannot find rule for <class 'torch.nn.modules.flatten.Flatten'>. Treat it as zero Macs and zero Params.\u001b[00m\n",
            "\u001b[91m[WARN] Cannot find rule for <class 'torch.nn.modules.container.Sequential'>. Treat it as zero Macs and zero Params.\u001b[00m\n",
            "[INFO] Register count_gru() for <class 'torch.nn.modules.rnn.GRU'>.\n",
            "[INFO] Register count_linear() for <class 'torch.nn.modules.linear.Linear'>.\n",
            "\u001b[91m[WARN] Cannot find rule for <class 'torch.nn.modules.activation.Tanh'>. Treat it as zero Macs and zero Params.\u001b[00m\n",
            "\u001b[91m[WARN] Cannot find rule for <class '__main__.Attention'>. Treat it as zero Macs and zero Params.\u001b[00m\n",
            "\u001b[91m[WARN] Cannot find rule for <class '__main__.CRNN'>. Treat it as zero Macs and zero Params.\u001b[00m\n",
            "AU_fa_fr: 5.334390782764708e-05\n",
            "Size: 0.04452228546142578\n",
            "MACS, FLOPS: 11667968.0 9906.0\n",
            "Metric ratio (baseline/model): 0.9373141570645487\n",
            "Size ratio (baseline/model): 6.131755381814287\n",
            "MACs ratio (baseline/model): 10.244065119136426\n"
          ]
        }
      ]
    },
    {
      "cell_type": "code",
      "metadata": {
        "id": "VaetGT2yRLP4"
      },
      "source": [
        "import matplotlib as mpl\n",
        "mpl.rcParams['figure.dpi'] = 300"
      ],
      "execution_count": 146,
      "outputs": []
    },
    {
      "cell_type": "code",
      "metadata": {
        "colab": {
          "base_uri": "https://localhost:8080/",
          "height": 631
        },
        "id": "hWkr0aIlKn8n",
        "outputId": "859a1b48-fc2f-48b6-d395-585d190716c3"
      },
      "source": [
        "# baseline, quantized_baseline, distillated_student, quantized_distillated_student\n",
        "macs = [baseline_macs, baseline_macs, student_macs, student_macs] \n",
        "sizes = [baseline_size, quantized_size, student_size, qstudent_size]\n",
        "labels = ['BS', 'BS + qint8', 'Distil', 'Distil + qint8']\n",
        "rotations = [5, 5, 5, 70]\n",
        "fig = plt.figure(figsize=(8, 7), dpi=100)\n",
        "ax = plt.gca()\n",
        "\n",
        "ax.scatter(sizes, macs, marker='^', s=90, color='red')\n",
        "ax.plot(sizes, macs, linewidth=2, color='red')\n",
        "ax.set_xlabel('Size (MB)')\n",
        "ax.set_ylabel('MACs')\n",
        "ax.set_title('Comparison of differerent optimization strategies')\n",
        "for i, (label, angle) in enumerate(zip(labels, rotations)):\n",
        "    t = ax.annotate(label, (sizes[i], macs[i]), horizontalalignment='left',\n",
        "                       verticalalignment='bottom')\n",
        "    t.set_rotation(angle)\n",
        "plt.savefig('fig.png', dpi=130)\n",
        "plt.show()\n"
      ],
      "execution_count": 147,
      "outputs": [
        {
          "output_type": "display_data",
          "data": {
            "image/png": "[encoded data removed]",
            "text/plain": [
              "<Figure size 800x700 with 1 Axes>"
            ]
          },
          "metadata": {
            "needs_background": "light"
          }
        }
      ]
    },
    {
      "cell_type": "code",
      "metadata": {
        "id": "PgSJ9cX5Qidb"
      },
      "source": [
        ""
      ],
      "execution_count": null,
      "outputs": []
    }
  ]
}